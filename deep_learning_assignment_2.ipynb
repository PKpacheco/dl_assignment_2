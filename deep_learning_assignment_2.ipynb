{
  "nbformat": 4,
  "nbformat_minor": 0,
  "metadata": {
    "colab": {
      "provenance": [],
      "toc_visible": true,
      "authorship_tag": "ABX9TyPWlFsuZzLxpWhhum6MyrFg",
      "include_colab_link": true
    },
    "kernelspec": {
      "name": "python3",
      "display_name": "Python 3"
    },
    "language_info": {
      "name": "python"
    }
  },
  "cells": [
    {
      "cell_type": "markdown",
      "metadata": {
        "id": "view-in-github",
        "colab_type": "text"
      },
      "source": [
        "<a href=\"https://colab.research.google.com/github/PKpacheco/dl_assignment_2/blob/main/deep_learning_assignment_2.ipynb\" target=\"_parent\"><img src=\"https://colab.research.google.com/assets/colab-badge.svg\" alt=\"Open In Colab\"/></a>"
      ]
    },
    {
      "cell_type": "markdown",
      "source": [
        "# Assignment 2: Date Fruit Classification\n",
        "Group 8:\n",
        "* Paola Katherine Pacheco\n",
        "* Wai Ping Kwok\n",
        "* Xueyao Wang"
      ],
      "metadata": {
        "id": "HNJGBlacG6bT"
      }
    },
    {
      "cell_type": "markdown",
      "source": [
        "# 1) Data"
      ],
      "metadata": {
        "id": "3qfZh9N1HG3X"
      }
    },
    {
      "cell_type": "markdown",
      "source": [
        "## 1.a) Load Date_Fruit_Datasets.csv into a pandas dataframe. Print out the header. Use pandas.DataFrame.describe to summarize the data. Using markdown, explain the meaning of the columns (as well as you can with the information available) and make observations about the dataset.\n"
      ],
      "metadata": {
        "id": "xFoHOExbHOkD"
      }
    },
    {
      "cell_type": "code",
      "source": [
        "# import libraries\n",
        "import pandas as pd\n",
        "import seaborn as sns\n",
        "import matplotlib.pyplot as plt\n",
        "from sklearn.preprocessing import LabelEncoder, minmax_scale\n",
        "from sklearn.model_selection import train_test_split\n",
        "import tensorflow as tf\n",
        "from sklearn.preprocessing import MinMaxScaler\n",
        "import  numpy as np\n",
        "from keras.models import Sequential\n",
        "from keras.layers import Dense, Dropout\n",
        "from sklearn.metrics import confusion_matrix\n",
        "from tabulate import tabulate\n"
      ],
      "metadata": {
        "id": "nHMVsAKeIP5K"
      },
      "execution_count": 231,
      "outputs": []
    },
    {
      "cell_type": "code",
      "source": [
        "# load the data uploaded to github into a pandas DataFrame\n",
        "df = pd.read_csv(\"https://raw.githubusercontent.com/PKpacheco/dl_assignment_2/main/Date_Fruit_Datasets.csv\")"
      ],
      "metadata": {
        "id": "tLywuBS8IHZe"
      },
      "execution_count": 191,
      "outputs": []
    },
    {
      "cell_type": "code",
      "source": [
        "# print the header\n",
        "df.head()"
      ],
      "metadata": {
        "colab": {
          "base_uri": "https://localhost:8080/",
          "height": 256
        },
        "id": "kwauT34-Ikm8",
        "outputId": "c80ea2ea-42fc-4d18-b263-adeb307c613b"
      },
      "execution_count": 192,
      "outputs": [
        {
          "output_type": "execute_result",
          "data": {
            "text/plain": [
              "     AREA  PERIMETER  MAJOR_AXIS  MINOR_AXIS  ECCENTRICITY   EQDIASQ  \\\n",
              "0  422163   2378.908    837.8484    645.6693        0.6373  733.1539   \n",
              "1  338136   2085.144    723.8198    595.2073        0.5690  656.1464   \n",
              "2  526843   2647.394    940.7379    715.3638        0.6494  819.0222   \n",
              "3  416063   2351.210    827.9804    645.2988        0.6266  727.8378   \n",
              "4  347562   2160.354    763.9877    582.8359        0.6465  665.2291   \n",
              "\n",
              "   SOLIDITY  CONVEX_AREA  EXTENT  ASPECT_RATIO  ...  KurtosisRR  KurtosisRG  \\\n",
              "0    0.9947       424428  0.7831        1.2976  ...      3.2370      2.9574   \n",
              "1    0.9974       339014  0.7795        1.2161  ...      2.6228      2.6350   \n",
              "2    0.9962       528876  0.7657        1.3150  ...      3.7516      3.8611   \n",
              "3    0.9948       418255  0.7759        1.2831  ...      5.0401      8.6136   \n",
              "4    0.9908       350797  0.7569        1.3108  ...      2.7016      2.9761   \n",
              "\n",
              "   KurtosisRB     EntropyRR    EntropyRG    EntropyRB  ALLdaub4RR  ALLdaub4RG  \\\n",
              "0      4.2287 -5.919126e+10 -50714214400 -39922372608     58.7255     54.9554   \n",
              "1      3.1704 -3.423307e+10 -37462601728 -31477794816     50.0259     52.8168   \n",
              "2      4.7192 -9.394835e+10 -74738221056 -60311207936     65.4772     59.2860   \n",
              "3      8.2618 -3.207431e+10 -32060925952 -29575010304     43.3900     44.1259   \n",
              "4      4.4146 -3.998097e+10 -35980042240 -25593278464     52.7743     50.9080   \n",
              "\n",
              "   ALLdaub4RB  Class  \n",
              "0     47.8400  BERHI  \n",
              "1     47.8315  BERHI  \n",
              "2     51.9378  BERHI  \n",
              "3     41.1882  BERHI  \n",
              "4     42.6666  BERHI  \n",
              "\n",
              "[5 rows x 35 columns]"
            ],
            "text/html": [
              "\n",
              "  <div id=\"df-1785d897-34b8-4d7d-894e-3093e42b19e3\" class=\"colab-df-container\">\n",
              "    <div>\n",
              "<style scoped>\n",
              "    .dataframe tbody tr th:only-of-type {\n",
              "        vertical-align: middle;\n",
              "    }\n",
              "\n",
              "    .dataframe tbody tr th {\n",
              "        vertical-align: top;\n",
              "    }\n",
              "\n",
              "    .dataframe thead th {\n",
              "        text-align: right;\n",
              "    }\n",
              "</style>\n",
              "<table border=\"1\" class=\"dataframe\">\n",
              "  <thead>\n",
              "    <tr style=\"text-align: right;\">\n",
              "      <th></th>\n",
              "      <th>AREA</th>\n",
              "      <th>PERIMETER</th>\n",
              "      <th>MAJOR_AXIS</th>\n",
              "      <th>MINOR_AXIS</th>\n",
              "      <th>ECCENTRICITY</th>\n",
              "      <th>EQDIASQ</th>\n",
              "      <th>SOLIDITY</th>\n",
              "      <th>CONVEX_AREA</th>\n",
              "      <th>EXTENT</th>\n",
              "      <th>ASPECT_RATIO</th>\n",
              "      <th>...</th>\n",
              "      <th>KurtosisRR</th>\n",
              "      <th>KurtosisRG</th>\n",
              "      <th>KurtosisRB</th>\n",
              "      <th>EntropyRR</th>\n",
              "      <th>EntropyRG</th>\n",
              "      <th>EntropyRB</th>\n",
              "      <th>ALLdaub4RR</th>\n",
              "      <th>ALLdaub4RG</th>\n",
              "      <th>ALLdaub4RB</th>\n",
              "      <th>Class</th>\n",
              "    </tr>\n",
              "  </thead>\n",
              "  <tbody>\n",
              "    <tr>\n",
              "      <th>0</th>\n",
              "      <td>422163</td>\n",
              "      <td>2378.908</td>\n",
              "      <td>837.8484</td>\n",
              "      <td>645.6693</td>\n",
              "      <td>0.6373</td>\n",
              "      <td>733.1539</td>\n",
              "      <td>0.9947</td>\n",
              "      <td>424428</td>\n",
              "      <td>0.7831</td>\n",
              "      <td>1.2976</td>\n",
              "      <td>...</td>\n",
              "      <td>3.2370</td>\n",
              "      <td>2.9574</td>\n",
              "      <td>4.2287</td>\n",
              "      <td>-5.919126e+10</td>\n",
              "      <td>-50714214400</td>\n",
              "      <td>-39922372608</td>\n",
              "      <td>58.7255</td>\n",
              "      <td>54.9554</td>\n",
              "      <td>47.8400</td>\n",
              "      <td>BERHI</td>\n",
              "    </tr>\n",
              "    <tr>\n",
              "      <th>1</th>\n",
              "      <td>338136</td>\n",
              "      <td>2085.144</td>\n",
              "      <td>723.8198</td>\n",
              "      <td>595.2073</td>\n",
              "      <td>0.5690</td>\n",
              "      <td>656.1464</td>\n",
              "      <td>0.9974</td>\n",
              "      <td>339014</td>\n",
              "      <td>0.7795</td>\n",
              "      <td>1.2161</td>\n",
              "      <td>...</td>\n",
              "      <td>2.6228</td>\n",
              "      <td>2.6350</td>\n",
              "      <td>3.1704</td>\n",
              "      <td>-3.423307e+10</td>\n",
              "      <td>-37462601728</td>\n",
              "      <td>-31477794816</td>\n",
              "      <td>50.0259</td>\n",
              "      <td>52.8168</td>\n",
              "      <td>47.8315</td>\n",
              "      <td>BERHI</td>\n",
              "    </tr>\n",
              "    <tr>\n",
              "      <th>2</th>\n",
              "      <td>526843</td>\n",
              "      <td>2647.394</td>\n",
              "      <td>940.7379</td>\n",
              "      <td>715.3638</td>\n",
              "      <td>0.6494</td>\n",
              "      <td>819.0222</td>\n",
              "      <td>0.9962</td>\n",
              "      <td>528876</td>\n",
              "      <td>0.7657</td>\n",
              "      <td>1.3150</td>\n",
              "      <td>...</td>\n",
              "      <td>3.7516</td>\n",
              "      <td>3.8611</td>\n",
              "      <td>4.7192</td>\n",
              "      <td>-9.394835e+10</td>\n",
              "      <td>-74738221056</td>\n",
              "      <td>-60311207936</td>\n",
              "      <td>65.4772</td>\n",
              "      <td>59.2860</td>\n",
              "      <td>51.9378</td>\n",
              "      <td>BERHI</td>\n",
              "    </tr>\n",
              "    <tr>\n",
              "      <th>3</th>\n",
              "      <td>416063</td>\n",
              "      <td>2351.210</td>\n",
              "      <td>827.9804</td>\n",
              "      <td>645.2988</td>\n",
              "      <td>0.6266</td>\n",
              "      <td>727.8378</td>\n",
              "      <td>0.9948</td>\n",
              "      <td>418255</td>\n",
              "      <td>0.7759</td>\n",
              "      <td>1.2831</td>\n",
              "      <td>...</td>\n",
              "      <td>5.0401</td>\n",
              "      <td>8.6136</td>\n",
              "      <td>8.2618</td>\n",
              "      <td>-3.207431e+10</td>\n",
              "      <td>-32060925952</td>\n",
              "      <td>-29575010304</td>\n",
              "      <td>43.3900</td>\n",
              "      <td>44.1259</td>\n",
              "      <td>41.1882</td>\n",
              "      <td>BERHI</td>\n",
              "    </tr>\n",
              "    <tr>\n",
              "      <th>4</th>\n",
              "      <td>347562</td>\n",
              "      <td>2160.354</td>\n",
              "      <td>763.9877</td>\n",
              "      <td>582.8359</td>\n",
              "      <td>0.6465</td>\n",
              "      <td>665.2291</td>\n",
              "      <td>0.9908</td>\n",
              "      <td>350797</td>\n",
              "      <td>0.7569</td>\n",
              "      <td>1.3108</td>\n",
              "      <td>...</td>\n",
              "      <td>2.7016</td>\n",
              "      <td>2.9761</td>\n",
              "      <td>4.4146</td>\n",
              "      <td>-3.998097e+10</td>\n",
              "      <td>-35980042240</td>\n",
              "      <td>-25593278464</td>\n",
              "      <td>52.7743</td>\n",
              "      <td>50.9080</td>\n",
              "      <td>42.6666</td>\n",
              "      <td>BERHI</td>\n",
              "    </tr>\n",
              "  </tbody>\n",
              "</table>\n",
              "<p>5 rows × 35 columns</p>\n",
              "</div>\n",
              "    <div class=\"colab-df-buttons\">\n",
              "\n",
              "  <div class=\"colab-df-container\">\n",
              "    <button class=\"colab-df-convert\" onclick=\"convertToInteractive('df-1785d897-34b8-4d7d-894e-3093e42b19e3')\"\n",
              "            title=\"Convert this dataframe to an interactive table.\"\n",
              "            style=\"display:none;\">\n",
              "\n",
              "  <svg xmlns=\"http://www.w3.org/2000/svg\" height=\"24px\" viewBox=\"0 -960 960 960\">\n",
              "    <path d=\"M120-120v-720h720v720H120Zm60-500h600v-160H180v160Zm220 220h160v-160H400v160Zm0 220h160v-160H400v160ZM180-400h160v-160H180v160Zm440 0h160v-160H620v160ZM180-180h160v-160H180v160Zm440 0h160v-160H620v160Z\"/>\n",
              "  </svg>\n",
              "    </button>\n",
              "\n",
              "  <style>\n",
              "    .colab-df-container {\n",
              "      display:flex;\n",
              "      gap: 12px;\n",
              "    }\n",
              "\n",
              "    .colab-df-convert {\n",
              "      background-color: #E8F0FE;\n",
              "      border: none;\n",
              "      border-radius: 50%;\n",
              "      cursor: pointer;\n",
              "      display: none;\n",
              "      fill: #1967D2;\n",
              "      height: 32px;\n",
              "      padding: 0 0 0 0;\n",
              "      width: 32px;\n",
              "    }\n",
              "\n",
              "    .colab-df-convert:hover {\n",
              "      background-color: #E2EBFA;\n",
              "      box-shadow: 0px 1px 2px rgba(60, 64, 67, 0.3), 0px 1px 3px 1px rgba(60, 64, 67, 0.15);\n",
              "      fill: #174EA6;\n",
              "    }\n",
              "\n",
              "    .colab-df-buttons div {\n",
              "      margin-bottom: 4px;\n",
              "    }\n",
              "\n",
              "    [theme=dark] .colab-df-convert {\n",
              "      background-color: #3B4455;\n",
              "      fill: #D2E3FC;\n",
              "    }\n",
              "\n",
              "    [theme=dark] .colab-df-convert:hover {\n",
              "      background-color: #434B5C;\n",
              "      box-shadow: 0px 1px 3px 1px rgba(0, 0, 0, 0.15);\n",
              "      filter: drop-shadow(0px 1px 2px rgba(0, 0, 0, 0.3));\n",
              "      fill: #FFFFFF;\n",
              "    }\n",
              "  </style>\n",
              "\n",
              "    <script>\n",
              "      const buttonEl =\n",
              "        document.querySelector('#df-1785d897-34b8-4d7d-894e-3093e42b19e3 button.colab-df-convert');\n",
              "      buttonEl.style.display =\n",
              "        google.colab.kernel.accessAllowed ? 'block' : 'none';\n",
              "\n",
              "      async function convertToInteractive(key) {\n",
              "        const element = document.querySelector('#df-1785d897-34b8-4d7d-894e-3093e42b19e3');\n",
              "        const dataTable =\n",
              "          await google.colab.kernel.invokeFunction('convertToInteractive',\n",
              "                                                    [key], {});\n",
              "        if (!dataTable) return;\n",
              "\n",
              "        const docLinkHtml = 'Like what you see? Visit the ' +\n",
              "          '<a target=\"_blank\" href=https://colab.research.google.com/notebooks/data_table.ipynb>data table notebook</a>'\n",
              "          + ' to learn more about interactive tables.';\n",
              "        element.innerHTML = '';\n",
              "        dataTable['output_type'] = 'display_data';\n",
              "        await google.colab.output.renderOutput(dataTable, element);\n",
              "        const docLink = document.createElement('div');\n",
              "        docLink.innerHTML = docLinkHtml;\n",
              "        element.appendChild(docLink);\n",
              "      }\n",
              "    </script>\n",
              "  </div>\n",
              "\n",
              "\n",
              "<div id=\"df-81c39ad2-d495-489d-b65b-ed43a4321131\">\n",
              "  <button class=\"colab-df-quickchart\" onclick=\"quickchart('df-81c39ad2-d495-489d-b65b-ed43a4321131')\"\n",
              "            title=\"Suggest charts.\"\n",
              "            style=\"display:none;\">\n",
              "\n",
              "<svg xmlns=\"http://www.w3.org/2000/svg\" height=\"24px\"viewBox=\"0 0 24 24\"\n",
              "     width=\"24px\">\n",
              "    <g>\n",
              "        <path d=\"M19 3H5c-1.1 0-2 .9-2 2v14c0 1.1.9 2 2 2h14c1.1 0 2-.9 2-2V5c0-1.1-.9-2-2-2zM9 17H7v-7h2v7zm4 0h-2V7h2v10zm4 0h-2v-4h2v4z\"/>\n",
              "    </g>\n",
              "</svg>\n",
              "  </button>\n",
              "\n",
              "<style>\n",
              "  .colab-df-quickchart {\n",
              "      --bg-color: #E8F0FE;\n",
              "      --fill-color: #1967D2;\n",
              "      --hover-bg-color: #E2EBFA;\n",
              "      --hover-fill-color: #174EA6;\n",
              "      --disabled-fill-color: #AAA;\n",
              "      --disabled-bg-color: #DDD;\n",
              "  }\n",
              "\n",
              "  [theme=dark] .colab-df-quickchart {\n",
              "      --bg-color: #3B4455;\n",
              "      --fill-color: #D2E3FC;\n",
              "      --hover-bg-color: #434B5C;\n",
              "      --hover-fill-color: #FFFFFF;\n",
              "      --disabled-bg-color: #3B4455;\n",
              "      --disabled-fill-color: #666;\n",
              "  }\n",
              "\n",
              "  .colab-df-quickchart {\n",
              "    background-color: var(--bg-color);\n",
              "    border: none;\n",
              "    border-radius: 50%;\n",
              "    cursor: pointer;\n",
              "    display: none;\n",
              "    fill: var(--fill-color);\n",
              "    height: 32px;\n",
              "    padding: 0;\n",
              "    width: 32px;\n",
              "  }\n",
              "\n",
              "  .colab-df-quickchart:hover {\n",
              "    background-color: var(--hover-bg-color);\n",
              "    box-shadow: 0 1px 2px rgba(60, 64, 67, 0.3), 0 1px 3px 1px rgba(60, 64, 67, 0.15);\n",
              "    fill: var(--button-hover-fill-color);\n",
              "  }\n",
              "\n",
              "  .colab-df-quickchart-complete:disabled,\n",
              "  .colab-df-quickchart-complete:disabled:hover {\n",
              "    background-color: var(--disabled-bg-color);\n",
              "    fill: var(--disabled-fill-color);\n",
              "    box-shadow: none;\n",
              "  }\n",
              "\n",
              "  .colab-df-spinner {\n",
              "    border: 2px solid var(--fill-color);\n",
              "    border-color: transparent;\n",
              "    border-bottom-color: var(--fill-color);\n",
              "    animation:\n",
              "      spin 1s steps(1) infinite;\n",
              "  }\n",
              "\n",
              "  @keyframes spin {\n",
              "    0% {\n",
              "      border-color: transparent;\n",
              "      border-bottom-color: var(--fill-color);\n",
              "      border-left-color: var(--fill-color);\n",
              "    }\n",
              "    20% {\n",
              "      border-color: transparent;\n",
              "      border-left-color: var(--fill-color);\n",
              "      border-top-color: var(--fill-color);\n",
              "    }\n",
              "    30% {\n",
              "      border-color: transparent;\n",
              "      border-left-color: var(--fill-color);\n",
              "      border-top-color: var(--fill-color);\n",
              "      border-right-color: var(--fill-color);\n",
              "    }\n",
              "    40% {\n",
              "      border-color: transparent;\n",
              "      border-right-color: var(--fill-color);\n",
              "      border-top-color: var(--fill-color);\n",
              "    }\n",
              "    60% {\n",
              "      border-color: transparent;\n",
              "      border-right-color: var(--fill-color);\n",
              "    }\n",
              "    80% {\n",
              "      border-color: transparent;\n",
              "      border-right-color: var(--fill-color);\n",
              "      border-bottom-color: var(--fill-color);\n",
              "    }\n",
              "    90% {\n",
              "      border-color: transparent;\n",
              "      border-bottom-color: var(--fill-color);\n",
              "    }\n",
              "  }\n",
              "</style>\n",
              "\n",
              "  <script>\n",
              "    async function quickchart(key) {\n",
              "      const quickchartButtonEl =\n",
              "        document.querySelector('#' + key + ' button');\n",
              "      quickchartButtonEl.disabled = true;  // To prevent multiple clicks.\n",
              "      quickchartButtonEl.classList.add('colab-df-spinner');\n",
              "      try {\n",
              "        const charts = await google.colab.kernel.invokeFunction(\n",
              "            'suggestCharts', [key], {});\n",
              "      } catch (error) {\n",
              "        console.error('Error during call to suggestCharts:', error);\n",
              "      }\n",
              "      quickchartButtonEl.classList.remove('colab-df-spinner');\n",
              "      quickchartButtonEl.classList.add('colab-df-quickchart-complete');\n",
              "    }\n",
              "    (() => {\n",
              "      let quickchartButtonEl =\n",
              "        document.querySelector('#df-81c39ad2-d495-489d-b65b-ed43a4321131 button');\n",
              "      quickchartButtonEl.style.display =\n",
              "        google.colab.kernel.accessAllowed ? 'block' : 'none';\n",
              "    })();\n",
              "  </script>\n",
              "</div>\n",
              "    </div>\n",
              "  </div>\n"
            ]
          },
          "metadata": {},
          "execution_count": 192
        }
      ]
    },
    {
      "cell_type": "markdown",
      "source": [
        "## 1.b) Use pandas.DataFrame.info to check if the entries are the correct datatype, and if there are any missing values. Use pandas.DataFrame.duplicates to check for duplicate entries. Fix the dataset so that there are no missing values, duplicate rows, or incorrect data types. Use markdown to make observations and explain what you have done.\n"
      ],
      "metadata": {
        "id": "dHsEUeGpHUu_"
      }
    },
    {
      "cell_type": "code",
      "source": [
        "# summarize the data\n",
        "df.describe()"
      ],
      "metadata": {
        "colab": {
          "base_uri": "https://localhost:8080/",
          "height": 350
        },
        "id": "Mp7IqR6tImQm",
        "outputId": "25ac0c0d-f873-45ca-b39a-a9c80aa9cab1"
      },
      "execution_count": 193,
      "outputs": [
        {
          "output_type": "execute_result",
          "data": {
            "text/plain": [
              "                AREA    PERIMETER   MAJOR_AXIS  MINOR_AXIS  ECCENTRICITY  \\\n",
              "count     898.000000   898.000000   898.000000  898.000000    898.000000   \n",
              "mean   298295.207127  2057.660953   750.811994  495.872785      0.737468   \n",
              "std    107245.205337   410.012459   144.059326  114.268917      0.088727   \n",
              "min      1987.000000   911.828000   336.722700    2.283200      0.344800   \n",
              "25%    206948.000000  1726.091500   641.068650  404.684375      0.685625   \n",
              "50%    319833.000000  2196.345450   791.363400  495.054850      0.754700   \n",
              "75%    382573.000000  2389.716575   858.633750  589.031700      0.802150   \n",
              "max    546063.000000  2811.997100  1222.723000  766.453600      1.000000   \n",
              "\n",
              "          EQDIASQ    SOLIDITY    CONVEX_AREA      EXTENT  ASPECT_RATIO  ...  \\\n",
              "count  898.000000  898.000000     898.000000  898.000000    898.000000  ...   \n",
              "mean   604.577938    0.981840  303845.592428    0.736267      2.131102  ...   \n",
              "std    119.593888    0.018157  108815.656947    0.053745     17.820778  ...   \n",
              "min     50.298400    0.836600    2257.000000    0.512300      1.065300  ...   \n",
              "25%    513.317075    0.978825  210022.750000    0.705875      1.373725  ...   \n",
              "50%    638.140950    0.987300  327207.000000    0.746950      1.524150  ...   \n",
              "75%    697.930525    0.991800  388804.000000    0.775850      1.674750  ...   \n",
              "max    833.827900    0.997400  552598.000000    0.856200    535.525700  ...   \n",
              "\n",
              "           SkewRB  KurtosisRR  KurtosisRG  KurtosisRB     EntropyRR  \\\n",
              "count  898.000000  898.000000  898.000000  898.000000  8.980000e+02   \n",
              "mean     0.250518    4.247845    5.110894    3.780928 -3.185021e+10   \n",
              "std      0.632918    2.892357    3.745463    2.049831  2.037241e+10   \n",
              "min     -1.029100    1.708200    1.607600    1.767200 -1.091220e+11   \n",
              "25%     -0.196950    2.536625    2.508850    2.577275 -4.429444e+10   \n",
              "50%      0.135550    3.069800    3.127800    3.080700 -2.826156e+10   \n",
              "75%      0.593950    4.449850    7.320400    4.283125 -1.460482e+10   \n",
              "max      3.092300   26.171100   26.736700   32.249500 -1.627316e+08   \n",
              "\n",
              "          EntropyRG     EntropyRB  ALLdaub4RR  ALLdaub4RG  ALLdaub4RB  \n",
              "count  8.980000e+02  8.980000e+02  898.000000  898.000000  898.000000  \n",
              "mean  -2.901860e+10 -2.771876e+10   50.082888   48.805681   48.098393  \n",
              "std    1.712952e+10  1.484137e+10   16.063125   14.125911   10.813862  \n",
              "min   -9.261697e+10 -8.747177e+10   15.191100   20.524700   22.130000  \n",
              "25%   -3.894638e+10 -3.564534e+10   38.224425   38.654525   39.250725  \n",
              "50%   -2.620990e+10 -2.392928e+10   53.841300   50.337800   49.614100  \n",
              "75%   -1.433105e+10 -1.660367e+10   63.063350   59.573600   56.666675  \n",
              "max   -5.627727e+08 -4.370435e+08   79.828900   83.064900   74.104600  \n",
              "\n",
              "[8 rows x 34 columns]"
            ],
            "text/html": [
              "\n",
              "  <div id=\"df-6fbfe220-0df0-470f-9fe2-055bf9081fd0\" class=\"colab-df-container\">\n",
              "    <div>\n",
              "<style scoped>\n",
              "    .dataframe tbody tr th:only-of-type {\n",
              "        vertical-align: middle;\n",
              "    }\n",
              "\n",
              "    .dataframe tbody tr th {\n",
              "        vertical-align: top;\n",
              "    }\n",
              "\n",
              "    .dataframe thead th {\n",
              "        text-align: right;\n",
              "    }\n",
              "</style>\n",
              "<table border=\"1\" class=\"dataframe\">\n",
              "  <thead>\n",
              "    <tr style=\"text-align: right;\">\n",
              "      <th></th>\n",
              "      <th>AREA</th>\n",
              "      <th>PERIMETER</th>\n",
              "      <th>MAJOR_AXIS</th>\n",
              "      <th>MINOR_AXIS</th>\n",
              "      <th>ECCENTRICITY</th>\n",
              "      <th>EQDIASQ</th>\n",
              "      <th>SOLIDITY</th>\n",
              "      <th>CONVEX_AREA</th>\n",
              "      <th>EXTENT</th>\n",
              "      <th>ASPECT_RATIO</th>\n",
              "      <th>...</th>\n",
              "      <th>SkewRB</th>\n",
              "      <th>KurtosisRR</th>\n",
              "      <th>KurtosisRG</th>\n",
              "      <th>KurtosisRB</th>\n",
              "      <th>EntropyRR</th>\n",
              "      <th>EntropyRG</th>\n",
              "      <th>EntropyRB</th>\n",
              "      <th>ALLdaub4RR</th>\n",
              "      <th>ALLdaub4RG</th>\n",
              "      <th>ALLdaub4RB</th>\n",
              "    </tr>\n",
              "  </thead>\n",
              "  <tbody>\n",
              "    <tr>\n",
              "      <th>count</th>\n",
              "      <td>898.000000</td>\n",
              "      <td>898.000000</td>\n",
              "      <td>898.000000</td>\n",
              "      <td>898.000000</td>\n",
              "      <td>898.000000</td>\n",
              "      <td>898.000000</td>\n",
              "      <td>898.000000</td>\n",
              "      <td>898.000000</td>\n",
              "      <td>898.000000</td>\n",
              "      <td>898.000000</td>\n",
              "      <td>...</td>\n",
              "      <td>898.000000</td>\n",
              "      <td>898.000000</td>\n",
              "      <td>898.000000</td>\n",
              "      <td>898.000000</td>\n",
              "      <td>8.980000e+02</td>\n",
              "      <td>8.980000e+02</td>\n",
              "      <td>8.980000e+02</td>\n",
              "      <td>898.000000</td>\n",
              "      <td>898.000000</td>\n",
              "      <td>898.000000</td>\n",
              "    </tr>\n",
              "    <tr>\n",
              "      <th>mean</th>\n",
              "      <td>298295.207127</td>\n",
              "      <td>2057.660953</td>\n",
              "      <td>750.811994</td>\n",
              "      <td>495.872785</td>\n",
              "      <td>0.737468</td>\n",
              "      <td>604.577938</td>\n",
              "      <td>0.981840</td>\n",
              "      <td>303845.592428</td>\n",
              "      <td>0.736267</td>\n",
              "      <td>2.131102</td>\n",
              "      <td>...</td>\n",
              "      <td>0.250518</td>\n",
              "      <td>4.247845</td>\n",
              "      <td>5.110894</td>\n",
              "      <td>3.780928</td>\n",
              "      <td>-3.185021e+10</td>\n",
              "      <td>-2.901860e+10</td>\n",
              "      <td>-2.771876e+10</td>\n",
              "      <td>50.082888</td>\n",
              "      <td>48.805681</td>\n",
              "      <td>48.098393</td>\n",
              "    </tr>\n",
              "    <tr>\n",
              "      <th>std</th>\n",
              "      <td>107245.205337</td>\n",
              "      <td>410.012459</td>\n",
              "      <td>144.059326</td>\n",
              "      <td>114.268917</td>\n",
              "      <td>0.088727</td>\n",
              "      <td>119.593888</td>\n",
              "      <td>0.018157</td>\n",
              "      <td>108815.656947</td>\n",
              "      <td>0.053745</td>\n",
              "      <td>17.820778</td>\n",
              "      <td>...</td>\n",
              "      <td>0.632918</td>\n",
              "      <td>2.892357</td>\n",
              "      <td>3.745463</td>\n",
              "      <td>2.049831</td>\n",
              "      <td>2.037241e+10</td>\n",
              "      <td>1.712952e+10</td>\n",
              "      <td>1.484137e+10</td>\n",
              "      <td>16.063125</td>\n",
              "      <td>14.125911</td>\n",
              "      <td>10.813862</td>\n",
              "    </tr>\n",
              "    <tr>\n",
              "      <th>min</th>\n",
              "      <td>1987.000000</td>\n",
              "      <td>911.828000</td>\n",
              "      <td>336.722700</td>\n",
              "      <td>2.283200</td>\n",
              "      <td>0.344800</td>\n",
              "      <td>50.298400</td>\n",
              "      <td>0.836600</td>\n",
              "      <td>2257.000000</td>\n",
              "      <td>0.512300</td>\n",
              "      <td>1.065300</td>\n",
              "      <td>...</td>\n",
              "      <td>-1.029100</td>\n",
              "      <td>1.708200</td>\n",
              "      <td>1.607600</td>\n",
              "      <td>1.767200</td>\n",
              "      <td>-1.091220e+11</td>\n",
              "      <td>-9.261697e+10</td>\n",
              "      <td>-8.747177e+10</td>\n",
              "      <td>15.191100</td>\n",
              "      <td>20.524700</td>\n",
              "      <td>22.130000</td>\n",
              "    </tr>\n",
              "    <tr>\n",
              "      <th>25%</th>\n",
              "      <td>206948.000000</td>\n",
              "      <td>1726.091500</td>\n",
              "      <td>641.068650</td>\n",
              "      <td>404.684375</td>\n",
              "      <td>0.685625</td>\n",
              "      <td>513.317075</td>\n",
              "      <td>0.978825</td>\n",
              "      <td>210022.750000</td>\n",
              "      <td>0.705875</td>\n",
              "      <td>1.373725</td>\n",
              "      <td>...</td>\n",
              "      <td>-0.196950</td>\n",
              "      <td>2.536625</td>\n",
              "      <td>2.508850</td>\n",
              "      <td>2.577275</td>\n",
              "      <td>-4.429444e+10</td>\n",
              "      <td>-3.894638e+10</td>\n",
              "      <td>-3.564534e+10</td>\n",
              "      <td>38.224425</td>\n",
              "      <td>38.654525</td>\n",
              "      <td>39.250725</td>\n",
              "    </tr>\n",
              "    <tr>\n",
              "      <th>50%</th>\n",
              "      <td>319833.000000</td>\n",
              "      <td>2196.345450</td>\n",
              "      <td>791.363400</td>\n",
              "      <td>495.054850</td>\n",
              "      <td>0.754700</td>\n",
              "      <td>638.140950</td>\n",
              "      <td>0.987300</td>\n",
              "      <td>327207.000000</td>\n",
              "      <td>0.746950</td>\n",
              "      <td>1.524150</td>\n",
              "      <td>...</td>\n",
              "      <td>0.135550</td>\n",
              "      <td>3.069800</td>\n",
              "      <td>3.127800</td>\n",
              "      <td>3.080700</td>\n",
              "      <td>-2.826156e+10</td>\n",
              "      <td>-2.620990e+10</td>\n",
              "      <td>-2.392928e+10</td>\n",
              "      <td>53.841300</td>\n",
              "      <td>50.337800</td>\n",
              "      <td>49.614100</td>\n",
              "    </tr>\n",
              "    <tr>\n",
              "      <th>75%</th>\n",
              "      <td>382573.000000</td>\n",
              "      <td>2389.716575</td>\n",
              "      <td>858.633750</td>\n",
              "      <td>589.031700</td>\n",
              "      <td>0.802150</td>\n",
              "      <td>697.930525</td>\n",
              "      <td>0.991800</td>\n",
              "      <td>388804.000000</td>\n",
              "      <td>0.775850</td>\n",
              "      <td>1.674750</td>\n",
              "      <td>...</td>\n",
              "      <td>0.593950</td>\n",
              "      <td>4.449850</td>\n",
              "      <td>7.320400</td>\n",
              "      <td>4.283125</td>\n",
              "      <td>-1.460482e+10</td>\n",
              "      <td>-1.433105e+10</td>\n",
              "      <td>-1.660367e+10</td>\n",
              "      <td>63.063350</td>\n",
              "      <td>59.573600</td>\n",
              "      <td>56.666675</td>\n",
              "    </tr>\n",
              "    <tr>\n",
              "      <th>max</th>\n",
              "      <td>546063.000000</td>\n",
              "      <td>2811.997100</td>\n",
              "      <td>1222.723000</td>\n",
              "      <td>766.453600</td>\n",
              "      <td>1.000000</td>\n",
              "      <td>833.827900</td>\n",
              "      <td>0.997400</td>\n",
              "      <td>552598.000000</td>\n",
              "      <td>0.856200</td>\n",
              "      <td>535.525700</td>\n",
              "      <td>...</td>\n",
              "      <td>3.092300</td>\n",
              "      <td>26.171100</td>\n",
              "      <td>26.736700</td>\n",
              "      <td>32.249500</td>\n",
              "      <td>-1.627316e+08</td>\n",
              "      <td>-5.627727e+08</td>\n",
              "      <td>-4.370435e+08</td>\n",
              "      <td>79.828900</td>\n",
              "      <td>83.064900</td>\n",
              "      <td>74.104600</td>\n",
              "    </tr>\n",
              "  </tbody>\n",
              "</table>\n",
              "<p>8 rows × 34 columns</p>\n",
              "</div>\n",
              "    <div class=\"colab-df-buttons\">\n",
              "\n",
              "  <div class=\"colab-df-container\">\n",
              "    <button class=\"colab-df-convert\" onclick=\"convertToInteractive('df-6fbfe220-0df0-470f-9fe2-055bf9081fd0')\"\n",
              "            title=\"Convert this dataframe to an interactive table.\"\n",
              "            style=\"display:none;\">\n",
              "\n",
              "  <svg xmlns=\"http://www.w3.org/2000/svg\" height=\"24px\" viewBox=\"0 -960 960 960\">\n",
              "    <path d=\"M120-120v-720h720v720H120Zm60-500h600v-160H180v160Zm220 220h160v-160H400v160Zm0 220h160v-160H400v160ZM180-400h160v-160H180v160Zm440 0h160v-160H620v160ZM180-180h160v-160H180v160Zm440 0h160v-160H620v160Z\"/>\n",
              "  </svg>\n",
              "    </button>\n",
              "\n",
              "  <style>\n",
              "    .colab-df-container {\n",
              "      display:flex;\n",
              "      gap: 12px;\n",
              "    }\n",
              "\n",
              "    .colab-df-convert {\n",
              "      background-color: #E8F0FE;\n",
              "      border: none;\n",
              "      border-radius: 50%;\n",
              "      cursor: pointer;\n",
              "      display: none;\n",
              "      fill: #1967D2;\n",
              "      height: 32px;\n",
              "      padding: 0 0 0 0;\n",
              "      width: 32px;\n",
              "    }\n",
              "\n",
              "    .colab-df-convert:hover {\n",
              "      background-color: #E2EBFA;\n",
              "      box-shadow: 0px 1px 2px rgba(60, 64, 67, 0.3), 0px 1px 3px 1px rgba(60, 64, 67, 0.15);\n",
              "      fill: #174EA6;\n",
              "    }\n",
              "\n",
              "    .colab-df-buttons div {\n",
              "      margin-bottom: 4px;\n",
              "    }\n",
              "\n",
              "    [theme=dark] .colab-df-convert {\n",
              "      background-color: #3B4455;\n",
              "      fill: #D2E3FC;\n",
              "    }\n",
              "\n",
              "    [theme=dark] .colab-df-convert:hover {\n",
              "      background-color: #434B5C;\n",
              "      box-shadow: 0px 1px 3px 1px rgba(0, 0, 0, 0.15);\n",
              "      filter: drop-shadow(0px 1px 2px rgba(0, 0, 0, 0.3));\n",
              "      fill: #FFFFFF;\n",
              "    }\n",
              "  </style>\n",
              "\n",
              "    <script>\n",
              "      const buttonEl =\n",
              "        document.querySelector('#df-6fbfe220-0df0-470f-9fe2-055bf9081fd0 button.colab-df-convert');\n",
              "      buttonEl.style.display =\n",
              "        google.colab.kernel.accessAllowed ? 'block' : 'none';\n",
              "\n",
              "      async function convertToInteractive(key) {\n",
              "        const element = document.querySelector('#df-6fbfe220-0df0-470f-9fe2-055bf9081fd0');\n",
              "        const dataTable =\n",
              "          await google.colab.kernel.invokeFunction('convertToInteractive',\n",
              "                                                    [key], {});\n",
              "        if (!dataTable) return;\n",
              "\n",
              "        const docLinkHtml = 'Like what you see? Visit the ' +\n",
              "          '<a target=\"_blank\" href=https://colab.research.google.com/notebooks/data_table.ipynb>data table notebook</a>'\n",
              "          + ' to learn more about interactive tables.';\n",
              "        element.innerHTML = '';\n",
              "        dataTable['output_type'] = 'display_data';\n",
              "        await google.colab.output.renderOutput(dataTable, element);\n",
              "        const docLink = document.createElement('div');\n",
              "        docLink.innerHTML = docLinkHtml;\n",
              "        element.appendChild(docLink);\n",
              "      }\n",
              "    </script>\n",
              "  </div>\n",
              "\n",
              "\n",
              "<div id=\"df-b844c619-4664-4a4b-a42f-5b4afe1bdf35\">\n",
              "  <button class=\"colab-df-quickchart\" onclick=\"quickchart('df-b844c619-4664-4a4b-a42f-5b4afe1bdf35')\"\n",
              "            title=\"Suggest charts.\"\n",
              "            style=\"display:none;\">\n",
              "\n",
              "<svg xmlns=\"http://www.w3.org/2000/svg\" height=\"24px\"viewBox=\"0 0 24 24\"\n",
              "     width=\"24px\">\n",
              "    <g>\n",
              "        <path d=\"M19 3H5c-1.1 0-2 .9-2 2v14c0 1.1.9 2 2 2h14c1.1 0 2-.9 2-2V5c0-1.1-.9-2-2-2zM9 17H7v-7h2v7zm4 0h-2V7h2v10zm4 0h-2v-4h2v4z\"/>\n",
              "    </g>\n",
              "</svg>\n",
              "  </button>\n",
              "\n",
              "<style>\n",
              "  .colab-df-quickchart {\n",
              "      --bg-color: #E8F0FE;\n",
              "      --fill-color: #1967D2;\n",
              "      --hover-bg-color: #E2EBFA;\n",
              "      --hover-fill-color: #174EA6;\n",
              "      --disabled-fill-color: #AAA;\n",
              "      --disabled-bg-color: #DDD;\n",
              "  }\n",
              "\n",
              "  [theme=dark] .colab-df-quickchart {\n",
              "      --bg-color: #3B4455;\n",
              "      --fill-color: #D2E3FC;\n",
              "      --hover-bg-color: #434B5C;\n",
              "      --hover-fill-color: #FFFFFF;\n",
              "      --disabled-bg-color: #3B4455;\n",
              "      --disabled-fill-color: #666;\n",
              "  }\n",
              "\n",
              "  .colab-df-quickchart {\n",
              "    background-color: var(--bg-color);\n",
              "    border: none;\n",
              "    border-radius: 50%;\n",
              "    cursor: pointer;\n",
              "    display: none;\n",
              "    fill: var(--fill-color);\n",
              "    height: 32px;\n",
              "    padding: 0;\n",
              "    width: 32px;\n",
              "  }\n",
              "\n",
              "  .colab-df-quickchart:hover {\n",
              "    background-color: var(--hover-bg-color);\n",
              "    box-shadow: 0 1px 2px rgba(60, 64, 67, 0.3), 0 1px 3px 1px rgba(60, 64, 67, 0.15);\n",
              "    fill: var(--button-hover-fill-color);\n",
              "  }\n",
              "\n",
              "  .colab-df-quickchart-complete:disabled,\n",
              "  .colab-df-quickchart-complete:disabled:hover {\n",
              "    background-color: var(--disabled-bg-color);\n",
              "    fill: var(--disabled-fill-color);\n",
              "    box-shadow: none;\n",
              "  }\n",
              "\n",
              "  .colab-df-spinner {\n",
              "    border: 2px solid var(--fill-color);\n",
              "    border-color: transparent;\n",
              "    border-bottom-color: var(--fill-color);\n",
              "    animation:\n",
              "      spin 1s steps(1) infinite;\n",
              "  }\n",
              "\n",
              "  @keyframes spin {\n",
              "    0% {\n",
              "      border-color: transparent;\n",
              "      border-bottom-color: var(--fill-color);\n",
              "      border-left-color: var(--fill-color);\n",
              "    }\n",
              "    20% {\n",
              "      border-color: transparent;\n",
              "      border-left-color: var(--fill-color);\n",
              "      border-top-color: var(--fill-color);\n",
              "    }\n",
              "    30% {\n",
              "      border-color: transparent;\n",
              "      border-left-color: var(--fill-color);\n",
              "      border-top-color: var(--fill-color);\n",
              "      border-right-color: var(--fill-color);\n",
              "    }\n",
              "    40% {\n",
              "      border-color: transparent;\n",
              "      border-right-color: var(--fill-color);\n",
              "      border-top-color: var(--fill-color);\n",
              "    }\n",
              "    60% {\n",
              "      border-color: transparent;\n",
              "      border-right-color: var(--fill-color);\n",
              "    }\n",
              "    80% {\n",
              "      border-color: transparent;\n",
              "      border-right-color: var(--fill-color);\n",
              "      border-bottom-color: var(--fill-color);\n",
              "    }\n",
              "    90% {\n",
              "      border-color: transparent;\n",
              "      border-bottom-color: var(--fill-color);\n",
              "    }\n",
              "  }\n",
              "</style>\n",
              "\n",
              "  <script>\n",
              "    async function quickchart(key) {\n",
              "      const quickchartButtonEl =\n",
              "        document.querySelector('#' + key + ' button');\n",
              "      quickchartButtonEl.disabled = true;  // To prevent multiple clicks.\n",
              "      quickchartButtonEl.classList.add('colab-df-spinner');\n",
              "      try {\n",
              "        const charts = await google.colab.kernel.invokeFunction(\n",
              "            'suggestCharts', [key], {});\n",
              "      } catch (error) {\n",
              "        console.error('Error during call to suggestCharts:', error);\n",
              "      }\n",
              "      quickchartButtonEl.classList.remove('colab-df-spinner');\n",
              "      quickchartButtonEl.classList.add('colab-df-quickchart-complete');\n",
              "    }\n",
              "    (() => {\n",
              "      let quickchartButtonEl =\n",
              "        document.querySelector('#df-b844c619-4664-4a4b-a42f-5b4afe1bdf35 button');\n",
              "      quickchartButtonEl.style.display =\n",
              "        google.colab.kernel.accessAllowed ? 'block' : 'none';\n",
              "    })();\n",
              "  </script>\n",
              "</div>\n",
              "    </div>\n",
              "  </div>\n"
            ]
          },
          "metadata": {},
          "execution_count": 193
        }
      ]
    },
    {
      "cell_type": "markdown",
      "source": [
        "**Observations:** WIP\n",
        "* The dataset contains X features and X label.\n",
        "\n",
        "**Description of the columns:**\n",
        "1.\n",
        "\n",
        "\n",
        "* From the summary, we can see that the range of features varied, we should apply scaler before we put the data into model.\n",
        "\n"
      ],
      "metadata": {
        "id": "qh23WybvIqsp"
      }
    },
    {
      "cell_type": "code",
      "source": [
        "# check for duplicate entries\n",
        "df.duplicated().sum()"
      ],
      "metadata": {
        "colab": {
          "base_uri": "https://localhost:8080/"
        },
        "id": "JioocbFLI36V",
        "outputId": "5fa23587-a83d-46d2-f31b-29fb389e5192"
      },
      "execution_count": 194,
      "outputs": [
        {
          "output_type": "execute_result",
          "data": {
            "text/plain": [
              "0"
            ]
          },
          "metadata": {},
          "execution_count": 194
        }
      ]
    },
    {
      "cell_type": "code",
      "source": [
        "# show the duplicate entries\n",
        "duplicateRows = df[df.duplicated()]\n",
        "duplicateRows"
      ],
      "metadata": {
        "colab": {
          "base_uri": "https://localhost:8080/",
          "height": 99
        },
        "id": "NA1H-7ofJEkh",
        "outputId": "7c708749-ed85-4966-d31c-6fe989c1603f"
      },
      "execution_count": 195,
      "outputs": [
        {
          "output_type": "execute_result",
          "data": {
            "text/plain": [
              "Empty DataFrame\n",
              "Columns: [AREA, PERIMETER, MAJOR_AXIS, MINOR_AXIS, ECCENTRICITY, EQDIASQ, SOLIDITY, CONVEX_AREA, EXTENT, ASPECT_RATIO, ROUNDNESS, COMPACTNESS, SHAPEFACTOR_1, SHAPEFACTOR_2, SHAPEFACTOR_3, SHAPEFACTOR_4, MeanRR, MeanRG, MeanRB, StdDevRR, StdDevRG, StdDevRB, SkewRR, SkewRG, SkewRB, KurtosisRR, KurtosisRG, KurtosisRB, EntropyRR, EntropyRG, EntropyRB, ALLdaub4RR, ALLdaub4RG, ALLdaub4RB, Class]\n",
              "Index: []\n",
              "\n",
              "[0 rows x 35 columns]"
            ],
            "text/html": [
              "\n",
              "  <div id=\"df-146b10db-65b0-4579-9141-fa84fa981bc7\" class=\"colab-df-container\">\n",
              "    <div>\n",
              "<style scoped>\n",
              "    .dataframe tbody tr th:only-of-type {\n",
              "        vertical-align: middle;\n",
              "    }\n",
              "\n",
              "    .dataframe tbody tr th {\n",
              "        vertical-align: top;\n",
              "    }\n",
              "\n",
              "    .dataframe thead th {\n",
              "        text-align: right;\n",
              "    }\n",
              "</style>\n",
              "<table border=\"1\" class=\"dataframe\">\n",
              "  <thead>\n",
              "    <tr style=\"text-align: right;\">\n",
              "      <th></th>\n",
              "      <th>AREA</th>\n",
              "      <th>PERIMETER</th>\n",
              "      <th>MAJOR_AXIS</th>\n",
              "      <th>MINOR_AXIS</th>\n",
              "      <th>ECCENTRICITY</th>\n",
              "      <th>EQDIASQ</th>\n",
              "      <th>SOLIDITY</th>\n",
              "      <th>CONVEX_AREA</th>\n",
              "      <th>EXTENT</th>\n",
              "      <th>ASPECT_RATIO</th>\n",
              "      <th>...</th>\n",
              "      <th>KurtosisRR</th>\n",
              "      <th>KurtosisRG</th>\n",
              "      <th>KurtosisRB</th>\n",
              "      <th>EntropyRR</th>\n",
              "      <th>EntropyRG</th>\n",
              "      <th>EntropyRB</th>\n",
              "      <th>ALLdaub4RR</th>\n",
              "      <th>ALLdaub4RG</th>\n",
              "      <th>ALLdaub4RB</th>\n",
              "      <th>Class</th>\n",
              "    </tr>\n",
              "  </thead>\n",
              "  <tbody>\n",
              "  </tbody>\n",
              "</table>\n",
              "<p>0 rows × 35 columns</p>\n",
              "</div>\n",
              "    <div class=\"colab-df-buttons\">\n",
              "\n",
              "  <div class=\"colab-df-container\">\n",
              "    <button class=\"colab-df-convert\" onclick=\"convertToInteractive('df-146b10db-65b0-4579-9141-fa84fa981bc7')\"\n",
              "            title=\"Convert this dataframe to an interactive table.\"\n",
              "            style=\"display:none;\">\n",
              "\n",
              "  <svg xmlns=\"http://www.w3.org/2000/svg\" height=\"24px\" viewBox=\"0 -960 960 960\">\n",
              "    <path d=\"M120-120v-720h720v720H120Zm60-500h600v-160H180v160Zm220 220h160v-160H400v160Zm0 220h160v-160H400v160ZM180-400h160v-160H180v160Zm440 0h160v-160H620v160ZM180-180h160v-160H180v160Zm440 0h160v-160H620v160Z\"/>\n",
              "  </svg>\n",
              "    </button>\n",
              "\n",
              "  <style>\n",
              "    .colab-df-container {\n",
              "      display:flex;\n",
              "      gap: 12px;\n",
              "    }\n",
              "\n",
              "    .colab-df-convert {\n",
              "      background-color: #E8F0FE;\n",
              "      border: none;\n",
              "      border-radius: 50%;\n",
              "      cursor: pointer;\n",
              "      display: none;\n",
              "      fill: #1967D2;\n",
              "      height: 32px;\n",
              "      padding: 0 0 0 0;\n",
              "      width: 32px;\n",
              "    }\n",
              "\n",
              "    .colab-df-convert:hover {\n",
              "      background-color: #E2EBFA;\n",
              "      box-shadow: 0px 1px 2px rgba(60, 64, 67, 0.3), 0px 1px 3px 1px rgba(60, 64, 67, 0.15);\n",
              "      fill: #174EA6;\n",
              "    }\n",
              "\n",
              "    .colab-df-buttons div {\n",
              "      margin-bottom: 4px;\n",
              "    }\n",
              "\n",
              "    [theme=dark] .colab-df-convert {\n",
              "      background-color: #3B4455;\n",
              "      fill: #D2E3FC;\n",
              "    }\n",
              "\n",
              "    [theme=dark] .colab-df-convert:hover {\n",
              "      background-color: #434B5C;\n",
              "      box-shadow: 0px 1px 3px 1px rgba(0, 0, 0, 0.15);\n",
              "      filter: drop-shadow(0px 1px 2px rgba(0, 0, 0, 0.3));\n",
              "      fill: #FFFFFF;\n",
              "    }\n",
              "  </style>\n",
              "\n",
              "    <script>\n",
              "      const buttonEl =\n",
              "        document.querySelector('#df-146b10db-65b0-4579-9141-fa84fa981bc7 button.colab-df-convert');\n",
              "      buttonEl.style.display =\n",
              "        google.colab.kernel.accessAllowed ? 'block' : 'none';\n",
              "\n",
              "      async function convertToInteractive(key) {\n",
              "        const element = document.querySelector('#df-146b10db-65b0-4579-9141-fa84fa981bc7');\n",
              "        const dataTable =\n",
              "          await google.colab.kernel.invokeFunction('convertToInteractive',\n",
              "                                                    [key], {});\n",
              "        if (!dataTable) return;\n",
              "\n",
              "        const docLinkHtml = 'Like what you see? Visit the ' +\n",
              "          '<a target=\"_blank\" href=https://colab.research.google.com/notebooks/data_table.ipynb>data table notebook</a>'\n",
              "          + ' to learn more about interactive tables.';\n",
              "        element.innerHTML = '';\n",
              "        dataTable['output_type'] = 'display_data';\n",
              "        await google.colab.output.renderOutput(dataTable, element);\n",
              "        const docLink = document.createElement('div');\n",
              "        docLink.innerHTML = docLinkHtml;\n",
              "        element.appendChild(docLink);\n",
              "      }\n",
              "    </script>\n",
              "  </div>\n",
              "\n",
              "    </div>\n",
              "  </div>\n"
            ]
          },
          "metadata": {},
          "execution_count": 195
        }
      ]
    },
    {
      "cell_type": "code",
      "source": [
        "# check for null value\n",
        "df.isna().sum()"
      ],
      "metadata": {
        "colab": {
          "base_uri": "https://localhost:8080/"
        },
        "id": "8NkMAU9RJIQ7",
        "outputId": "7d9b47e1-3f18-4648-a30a-ec0deae3ab4d"
      },
      "execution_count": 196,
      "outputs": [
        {
          "output_type": "execute_result",
          "data": {
            "text/plain": [
              "AREA             0\n",
              "PERIMETER        0\n",
              "MAJOR_AXIS       0\n",
              "MINOR_AXIS       0\n",
              "ECCENTRICITY     0\n",
              "EQDIASQ          0\n",
              "SOLIDITY         0\n",
              "CONVEX_AREA      0\n",
              "EXTENT           0\n",
              "ASPECT_RATIO     0\n",
              "ROUNDNESS        0\n",
              "COMPACTNESS      0\n",
              "SHAPEFACTOR_1    0\n",
              "SHAPEFACTOR_2    0\n",
              "SHAPEFACTOR_3    0\n",
              "SHAPEFACTOR_4    0\n",
              "MeanRR           0\n",
              "MeanRG           0\n",
              "MeanRB           0\n",
              "StdDevRR         0\n",
              "StdDevRG         0\n",
              "StdDevRB         0\n",
              "SkewRR           0\n",
              "SkewRG           0\n",
              "SkewRB           0\n",
              "KurtosisRR       0\n",
              "KurtosisRG       0\n",
              "KurtosisRB       0\n",
              "EntropyRR        0\n",
              "EntropyRG        0\n",
              "EntropyRB        0\n",
              "ALLdaub4RR       0\n",
              "ALLdaub4RG       0\n",
              "ALLdaub4RB       0\n",
              "Class            0\n",
              "dtype: int64"
            ]
          },
          "metadata": {},
          "execution_count": 196
        }
      ]
    },
    {
      "cell_type": "markdown",
      "source": [
        "## 1.c) Create a bar plot using seaborn.barplot of the number of elements in each category. Use markdown to comment on how well balanced the dataset is.\n"
      ],
      "metadata": {
        "id": "0cZDaXQhHX93"
      }
    },
    {
      "cell_type": "code",
      "source": [
        "df.info()"
      ],
      "metadata": {
        "colab": {
          "base_uri": "https://localhost:8080/"
        },
        "id": "x1MkBWocsK5l",
        "outputId": "66176119-0128-4590-85ae-af81d7dd816c"
      },
      "execution_count": 197,
      "outputs": [
        {
          "output_type": "stream",
          "name": "stdout",
          "text": [
            "<class 'pandas.core.frame.DataFrame'>\n",
            "RangeIndex: 898 entries, 0 to 897\n",
            "Data columns (total 35 columns):\n",
            " #   Column         Non-Null Count  Dtype  \n",
            "---  ------         --------------  -----  \n",
            " 0   AREA           898 non-null    int64  \n",
            " 1   PERIMETER      898 non-null    float64\n",
            " 2   MAJOR_AXIS     898 non-null    float64\n",
            " 3   MINOR_AXIS     898 non-null    float64\n",
            " 4   ECCENTRICITY   898 non-null    float64\n",
            " 5   EQDIASQ        898 non-null    float64\n",
            " 6   SOLIDITY       898 non-null    float64\n",
            " 7   CONVEX_AREA    898 non-null    int64  \n",
            " 8   EXTENT         898 non-null    float64\n",
            " 9   ASPECT_RATIO   898 non-null    float64\n",
            " 10  ROUNDNESS      898 non-null    float64\n",
            " 11  COMPACTNESS    898 non-null    float64\n",
            " 12  SHAPEFACTOR_1  898 non-null    float64\n",
            " 13  SHAPEFACTOR_2  898 non-null    float64\n",
            " 14  SHAPEFACTOR_3  898 non-null    float64\n",
            " 15  SHAPEFACTOR_4  898 non-null    float64\n",
            " 16  MeanRR         898 non-null    float64\n",
            " 17  MeanRG         898 non-null    float64\n",
            " 18  MeanRB         898 non-null    float64\n",
            " 19  StdDevRR       898 non-null    float64\n",
            " 20  StdDevRG       898 non-null    float64\n",
            " 21  StdDevRB       898 non-null    float64\n",
            " 22  SkewRR         898 non-null    float64\n",
            " 23  SkewRG         898 non-null    float64\n",
            " 24  SkewRB         898 non-null    float64\n",
            " 25  KurtosisRR     898 non-null    float64\n",
            " 26  KurtosisRG     898 non-null    float64\n",
            " 27  KurtosisRB     898 non-null    float64\n",
            " 28  EntropyRR      898 non-null    float64\n",
            " 29  EntropyRG      898 non-null    int64  \n",
            " 30  EntropyRB      898 non-null    int64  \n",
            " 31  ALLdaub4RR     898 non-null    float64\n",
            " 32  ALLdaub4RG     898 non-null    float64\n",
            " 33  ALLdaub4RB     898 non-null    float64\n",
            " 34  Class          898 non-null    object \n",
            "dtypes: float64(30), int64(4), object(1)\n",
            "memory usage: 245.7+ KB\n"
          ]
        }
      ]
    },
    {
      "cell_type": "code",
      "source": [
        "# plot all categories\n",
        "\n",
        "sns.barplot(x=df['Class'].value_counts().index, y=df['Class'].value_counts())\n",
        "plt.ylabel('Number of Elements')\n",
        "plt.title('Number of Elements in Each Category')\n",
        "\n"
      ],
      "metadata": {
        "colab": {
          "base_uri": "https://localhost:8080/",
          "height": 470
        },
        "id": "p0bfU8CYrz6w",
        "outputId": "a5ba1ab6-cd3c-461f-a03d-d902190ac357"
      },
      "execution_count": 198,
      "outputs": [
        {
          "output_type": "execute_result",
          "data": {
            "text/plain": [
              "Text(0.5, 1.0, 'Number of Elements in Each Category')"
            ]
          },
          "metadata": {},
          "execution_count": 198
        },
        {
          "output_type": "display_data",
          "data": {
            "text/plain": [
              "<Figure size 640x480 with 1 Axes>"
            ],
            "image/png": "[encoded data removed]"
          },
          "metadata": {}
        }
      ]
    },
    {
      "cell_type": "code",
      "source": [
        "df[\"Class\"].value_counts().plot(kind=\"pie\", autopct=\"%.2f%%\")\n"
      ],
      "metadata": {
        "colab": {
          "base_uri": "https://localhost:8080/",
          "height": 424
        },
        "id": "H9j5PzGJs06S",
        "outputId": "f1f11f9d-2851-4283-db56-7caf11205634"
      },
      "execution_count": 199,
      "outputs": [
        {
          "output_type": "execute_result",
          "data": {
            "text/plain": [
              "<Axes: ylabel='Class'>"
            ]
          },
          "metadata": {},
          "execution_count": 199
        },
        {
          "output_type": "display_data",
          "data": {
            "text/plain": [
              "<Figure size 640x480 with 1 Axes>"
            ],
            "image/png": "[encoded data removed]"
          },
          "metadata": {}
        }
      ]
    },
    {
      "cell_type": "code",
      "source": [
        "sns.scatterplot(data=df, x=\"AREA\", y=\"PERIMETER\", hue=\"Class\")\n"
      ],
      "metadata": {
        "colab": {
          "base_uri": "https://localhost:8080/",
          "height": 467
        },
        "id": "8vbdNqeItRrf",
        "outputId": "b433ae1d-aab7-4a2d-9077-6f1b44037ca7"
      },
      "execution_count": 200,
      "outputs": [
        {
          "output_type": "execute_result",
          "data": {
            "text/plain": [
              "<Axes: xlabel='AREA', ylabel='PERIMETER'>"
            ]
          },
          "metadata": {},
          "execution_count": 200
        },
        {
          "output_type": "display_data",
          "data": {
            "text/plain": [
              "<Figure size 640x480 with 1 Axes>"
            ],
            "image/png": "[encoded data removed]"
          },
          "metadata": {}
        }
      ]
    },
    {
      "cell_type": "markdown",
      "source": [
        "Based on the graphs, the data is not distributed equally"
      ],
      "metadata": {
        "id": "iPGXrSAIn5_K"
      }
    },
    {
      "cell_type": "markdown",
      "source": [
        "## 1.d) Move the labels into a separate dataframe and use sklearn.preprocessing.LabelEncoder to convert the string labels into integers. Reshape the labels into a 2d array. Determine which number has been assigned to each type of date and record this information in markdown. Split the data into training, testing and validation sets with appropriate proportions.\n"
      ],
      "metadata": {
        "id": "nQa-D7L6HbL2"
      }
    },
    {
      "cell_type": "code",
      "source": [
        "# check shape\n",
        "df.shape\n"
      ],
      "metadata": {
        "colab": {
          "base_uri": "https://localhost:8080/"
        },
        "id": "rcRpzomx2lGF",
        "outputId": "45a38e2d-b91f-4ac1-fe4f-bea8e1d4fc6f"
      },
      "execution_count": 201,
      "outputs": [
        {
          "output_type": "execute_result",
          "data": {
            "text/plain": [
              "(898, 35)"
            ]
          },
          "metadata": {},
          "execution_count": 201
        }
      ]
    },
    {
      "cell_type": "code",
      "source": [
        "# check all classes\n",
        "df[\"Class\"].unique()"
      ],
      "metadata": {
        "colab": {
          "base_uri": "https://localhost:8080/"
        },
        "id": "XD7IXpSr2wiS",
        "outputId": "9b2e384c-0b9f-4e68-d85b-c197b185d112"
      },
      "execution_count": 202,
      "outputs": [
        {
          "output_type": "execute_result",
          "data": {
            "text/plain": [
              "array(['BERHI', 'DEGLET', 'DOKOL', 'IRAQI', 'ROTANA', 'SAFAVI', 'SOGAY'],\n",
              "      dtype=object)"
            ]
          },
          "metadata": {},
          "execution_count": 202
        }
      ]
    },
    {
      "cell_type": "code",
      "source": [
        "# move lables to a separate df\n",
        "label_df = df[['Class']]"
      ],
      "metadata": {
        "id": "X28ThvNhtZ-N"
      },
      "execution_count": 203,
      "outputs": []
    },
    {
      "cell_type": "code",
      "source": [
        "label_df.head()"
      ],
      "metadata": {
        "colab": {
          "base_uri": "https://localhost:8080/",
          "height": 206
        },
        "id": "PRj25W733Idr",
        "outputId": "bc101474-05b0-4b09-ffae-c0fb64706a05"
      },
      "execution_count": 204,
      "outputs": [
        {
          "output_type": "execute_result",
          "data": {
            "text/plain": [
              "   Class\n",
              "0  BERHI\n",
              "1  BERHI\n",
              "2  BERHI\n",
              "3  BERHI\n",
              "4  BERHI"
            ],
            "text/html": [
              "\n",
              "  <div id=\"df-398029bf-eea2-483c-aca5-c77bf9c41c66\" class=\"colab-df-container\">\n",
              "    <div>\n",
              "<style scoped>\n",
              "    .dataframe tbody tr th:only-of-type {\n",
              "        vertical-align: middle;\n",
              "    }\n",
              "\n",
              "    .dataframe tbody tr th {\n",
              "        vertical-align: top;\n",
              "    }\n",
              "\n",
              "    .dataframe thead th {\n",
              "        text-align: right;\n",
              "    }\n",
              "</style>\n",
              "<table border=\"1\" class=\"dataframe\">\n",
              "  <thead>\n",
              "    <tr style=\"text-align: right;\">\n",
              "      <th></th>\n",
              "      <th>Class</th>\n",
              "    </tr>\n",
              "  </thead>\n",
              "  <tbody>\n",
              "    <tr>\n",
              "      <th>0</th>\n",
              "      <td>BERHI</td>\n",
              "    </tr>\n",
              "    <tr>\n",
              "      <th>1</th>\n",
              "      <td>BERHI</td>\n",
              "    </tr>\n",
              "    <tr>\n",
              "      <th>2</th>\n",
              "      <td>BERHI</td>\n",
              "    </tr>\n",
              "    <tr>\n",
              "      <th>3</th>\n",
              "      <td>BERHI</td>\n",
              "    </tr>\n",
              "    <tr>\n",
              "      <th>4</th>\n",
              "      <td>BERHI</td>\n",
              "    </tr>\n",
              "  </tbody>\n",
              "</table>\n",
              "</div>\n",
              "    <div class=\"colab-df-buttons\">\n",
              "\n",
              "  <div class=\"colab-df-container\">\n",
              "    <button class=\"colab-df-convert\" onclick=\"convertToInteractive('df-398029bf-eea2-483c-aca5-c77bf9c41c66')\"\n",
              "            title=\"Convert this dataframe to an interactive table.\"\n",
              "            style=\"display:none;\">\n",
              "\n",
              "  <svg xmlns=\"http://www.w3.org/2000/svg\" height=\"24px\" viewBox=\"0 -960 960 960\">\n",
              "    <path d=\"M120-120v-720h720v720H120Zm60-500h600v-160H180v160Zm220 220h160v-160H400v160Zm0 220h160v-160H400v160ZM180-400h160v-160H180v160Zm440 0h160v-160H620v160ZM180-180h160v-160H180v160Zm440 0h160v-160H620v160Z\"/>\n",
              "  </svg>\n",
              "    </button>\n",
              "\n",
              "  <style>\n",
              "    .colab-df-container {\n",
              "      display:flex;\n",
              "      gap: 12px;\n",
              "    }\n",
              "\n",
              "    .colab-df-convert {\n",
              "      background-color: #E8F0FE;\n",
              "      border: none;\n",
              "      border-radius: 50%;\n",
              "      cursor: pointer;\n",
              "      display: none;\n",
              "      fill: #1967D2;\n",
              "      height: 32px;\n",
              "      padding: 0 0 0 0;\n",
              "      width: 32px;\n",
              "    }\n",
              "\n",
              "    .colab-df-convert:hover {\n",
              "      background-color: #E2EBFA;\n",
              "      box-shadow: 0px 1px 2px rgba(60, 64, 67, 0.3), 0px 1px 3px 1px rgba(60, 64, 67, 0.15);\n",
              "      fill: #174EA6;\n",
              "    }\n",
              "\n",
              "    .colab-df-buttons div {\n",
              "      margin-bottom: 4px;\n",
              "    }\n",
              "\n",
              "    [theme=dark] .colab-df-convert {\n",
              "      background-color: #3B4455;\n",
              "      fill: #D2E3FC;\n",
              "    }\n",
              "\n",
              "    [theme=dark] .colab-df-convert:hover {\n",
              "      background-color: #434B5C;\n",
              "      box-shadow: 0px 1px 3px 1px rgba(0, 0, 0, 0.15);\n",
              "      filter: drop-shadow(0px 1px 2px rgba(0, 0, 0, 0.3));\n",
              "      fill: #FFFFFF;\n",
              "    }\n",
              "  </style>\n",
              "\n",
              "    <script>\n",
              "      const buttonEl =\n",
              "        document.querySelector('#df-398029bf-eea2-483c-aca5-c77bf9c41c66 button.colab-df-convert');\n",
              "      buttonEl.style.display =\n",
              "        google.colab.kernel.accessAllowed ? 'block' : 'none';\n",
              "\n",
              "      async function convertToInteractive(key) {\n",
              "        const element = document.querySelector('#df-398029bf-eea2-483c-aca5-c77bf9c41c66');\n",
              "        const dataTable =\n",
              "          await google.colab.kernel.invokeFunction('convertToInteractive',\n",
              "                                                    [key], {});\n",
              "        if (!dataTable) return;\n",
              "\n",
              "        const docLinkHtml = 'Like what you see? Visit the ' +\n",
              "          '<a target=\"_blank\" href=https://colab.research.google.com/notebooks/data_table.ipynb>data table notebook</a>'\n",
              "          + ' to learn more about interactive tables.';\n",
              "        element.innerHTML = '';\n",
              "        dataTable['output_type'] = 'display_data';\n",
              "        await google.colab.output.renderOutput(dataTable, element);\n",
              "        const docLink = document.createElement('div');\n",
              "        docLink.innerHTML = docLinkHtml;\n",
              "        element.appendChild(docLink);\n",
              "      }\n",
              "    </script>\n",
              "  </div>\n",
              "\n",
              "\n",
              "<div id=\"df-c6e469b0-fc3a-431b-9113-d374efe885d2\">\n",
              "  <button class=\"colab-df-quickchart\" onclick=\"quickchart('df-c6e469b0-fc3a-431b-9113-d374efe885d2')\"\n",
              "            title=\"Suggest charts.\"\n",
              "            style=\"display:none;\">\n",
              "\n",
              "<svg xmlns=\"http://www.w3.org/2000/svg\" height=\"24px\"viewBox=\"0 0 24 24\"\n",
              "     width=\"24px\">\n",
              "    <g>\n",
              "        <path d=\"M19 3H5c-1.1 0-2 .9-2 2v14c0 1.1.9 2 2 2h14c1.1 0 2-.9 2-2V5c0-1.1-.9-2-2-2zM9 17H7v-7h2v7zm4 0h-2V7h2v10zm4 0h-2v-4h2v4z\"/>\n",
              "    </g>\n",
              "</svg>\n",
              "  </button>\n",
              "\n",
              "<style>\n",
              "  .colab-df-quickchart {\n",
              "      --bg-color: #E8F0FE;\n",
              "      --fill-color: #1967D2;\n",
              "      --hover-bg-color: #E2EBFA;\n",
              "      --hover-fill-color: #174EA6;\n",
              "      --disabled-fill-color: #AAA;\n",
              "      --disabled-bg-color: #DDD;\n",
              "  }\n",
              "\n",
              "  [theme=dark] .colab-df-quickchart {\n",
              "      --bg-color: #3B4455;\n",
              "      --fill-color: #D2E3FC;\n",
              "      --hover-bg-color: #434B5C;\n",
              "      --hover-fill-color: #FFFFFF;\n",
              "      --disabled-bg-color: #3B4455;\n",
              "      --disabled-fill-color: #666;\n",
              "  }\n",
              "\n",
              "  .colab-df-quickchart {\n",
              "    background-color: var(--bg-color);\n",
              "    border: none;\n",
              "    border-radius: 50%;\n",
              "    cursor: pointer;\n",
              "    display: none;\n",
              "    fill: var(--fill-color);\n",
              "    height: 32px;\n",
              "    padding: 0;\n",
              "    width: 32px;\n",
              "  }\n",
              "\n",
              "  .colab-df-quickchart:hover {\n",
              "    background-color: var(--hover-bg-color);\n",
              "    box-shadow: 0 1px 2px rgba(60, 64, 67, 0.3), 0 1px 3px 1px rgba(60, 64, 67, 0.15);\n",
              "    fill: var(--button-hover-fill-color);\n",
              "  }\n",
              "\n",
              "  .colab-df-quickchart-complete:disabled,\n",
              "  .colab-df-quickchart-complete:disabled:hover {\n",
              "    background-color: var(--disabled-bg-color);\n",
              "    fill: var(--disabled-fill-color);\n",
              "    box-shadow: none;\n",
              "  }\n",
              "\n",
              "  .colab-df-spinner {\n",
              "    border: 2px solid var(--fill-color);\n",
              "    border-color: transparent;\n",
              "    border-bottom-color: var(--fill-color);\n",
              "    animation:\n",
              "      spin 1s steps(1) infinite;\n",
              "  }\n",
              "\n",
              "  @keyframes spin {\n",
              "    0% {\n",
              "      border-color: transparent;\n",
              "      border-bottom-color: var(--fill-color);\n",
              "      border-left-color: var(--fill-color);\n",
              "    }\n",
              "    20% {\n",
              "      border-color: transparent;\n",
              "      border-left-color: var(--fill-color);\n",
              "      border-top-color: var(--fill-color);\n",
              "    }\n",
              "    30% {\n",
              "      border-color: transparent;\n",
              "      border-left-color: var(--fill-color);\n",
              "      border-top-color: var(--fill-color);\n",
              "      border-right-color: var(--fill-color);\n",
              "    }\n",
              "    40% {\n",
              "      border-color: transparent;\n",
              "      border-right-color: var(--fill-color);\n",
              "      border-top-color: var(--fill-color);\n",
              "    }\n",
              "    60% {\n",
              "      border-color: transparent;\n",
              "      border-right-color: var(--fill-color);\n",
              "    }\n",
              "    80% {\n",
              "      border-color: transparent;\n",
              "      border-right-color: var(--fill-color);\n",
              "      border-bottom-color: var(--fill-color);\n",
              "    }\n",
              "    90% {\n",
              "      border-color: transparent;\n",
              "      border-bottom-color: var(--fill-color);\n",
              "    }\n",
              "  }\n",
              "</style>\n",
              "\n",
              "  <script>\n",
              "    async function quickchart(key) {\n",
              "      const quickchartButtonEl =\n",
              "        document.querySelector('#' + key + ' button');\n",
              "      quickchartButtonEl.disabled = true;  // To prevent multiple clicks.\n",
              "      quickchartButtonEl.classList.add('colab-df-spinner');\n",
              "      try {\n",
              "        const charts = await google.colab.kernel.invokeFunction(\n",
              "            'suggestCharts', [key], {});\n",
              "      } catch (error) {\n",
              "        console.error('Error during call to suggestCharts:', error);\n",
              "      }\n",
              "      quickchartButtonEl.classList.remove('colab-df-spinner');\n",
              "      quickchartButtonEl.classList.add('colab-df-quickchart-complete');\n",
              "    }\n",
              "    (() => {\n",
              "      let quickchartButtonEl =\n",
              "        document.querySelector('#df-c6e469b0-fc3a-431b-9113-d374efe885d2 button');\n",
              "      quickchartButtonEl.style.display =\n",
              "        google.colab.kernel.accessAllowed ? 'block' : 'none';\n",
              "    })();\n",
              "  </script>\n",
              "</div>\n",
              "    </div>\n",
              "  </div>\n"
            ]
          },
          "metadata": {},
          "execution_count": 204
        }
      ]
    },
    {
      "cell_type": "code",
      "source": [
        "# Label Encoder\n",
        "lab_enc = LabelEncoder()\n",
        "label_encoded = lab_enc.fit_transform(label_df['Class'])"
      ],
      "metadata": {
        "id": "QgVj4EQ3t0Zc"
      },
      "execution_count": 205,
      "outputs": []
    },
    {
      "cell_type": "code",
      "source": [
        "label_encoded.shape"
      ],
      "metadata": {
        "colab": {
          "base_uri": "https://localhost:8080/"
        },
        "id": "c50UUUm7oldX",
        "outputId": "fbe20b48-0aa9-48e1-ca28-4c50486ebfa1"
      },
      "execution_count": 206,
      "outputs": [
        {
          "output_type": "execute_result",
          "data": {
            "text/plain": [
              "(898,)"
            ]
          },
          "metadata": {},
          "execution_count": 206
        }
      ]
    },
    {
      "cell_type": "code",
      "source": [
        "# shape\n",
        "label_encoded_shaped = label_encoded.reshape(label_encoded.shape[0], 1)\n"
      ],
      "metadata": {
        "id": "Txq7ymzNt7ie"
      },
      "execution_count": 207,
      "outputs": []
    },
    {
      "cell_type": "code",
      "source": [
        "label_encoded_shaped.shape"
      ],
      "metadata": {
        "colab": {
          "base_uri": "https://localhost:8080/"
        },
        "id": "c_y-LutuoiaG",
        "outputId": "001735c7-be96-4049-ffef-f821198663e8"
      },
      "execution_count": 208,
      "outputs": [
        {
          "output_type": "execute_result",
          "data": {
            "text/plain": [
              "(898, 1)"
            ]
          },
          "metadata": {},
          "execution_count": 208
        }
      ]
    },
    {
      "cell_type": "code",
      "source": [
        "# identify label_encoded and values assigned\n",
        "label_assignned = {label: encoded_value for label, encoded_value in zip(label_df['Class'], label_encoded)}\n",
        "\n",
        "label_assignned"
      ],
      "metadata": {
        "colab": {
          "base_uri": "https://localhost:8080/"
        },
        "id": "FPPvAJn4uQ3p",
        "outputId": "7470e34d-e747-4f74-98c9-62d2559a9b6c"
      },
      "execution_count": 209,
      "outputs": [
        {
          "output_type": "execute_result",
          "data": {
            "text/plain": [
              "{'BERHI': 0,\n",
              " 'DEGLET': 1,\n",
              " 'DOKOL': 2,\n",
              " 'IRAQI': 3,\n",
              " 'ROTANA': 4,\n",
              " 'SAFAVI': 5,\n",
              " 'SOGAY': 6}"
            ]
          },
          "metadata": {},
          "execution_count": 209
        }
      ]
    },
    {
      "cell_type": "code",
      "source": [
        "# remove df[['Class']] from df\n",
        "df = df.drop(['Class'], axis=1)"
      ],
      "metadata": {
        "id": "_ELsUwDanApN"
      },
      "execution_count": 210,
      "outputs": []
    },
    {
      "cell_type": "code",
      "source": [
        "# get the reader for csv_data\n",
        "header = df.columns\n",
        "\n",
        "# init the StandardScaler\n",
        "scaler = MinMaxScaler()\n",
        "\n",
        "# Fit and transform the data using the scaler\n",
        "scaled_data = scaler.fit_transform(df)\n",
        "\n",
        "# create new df with scaled data\n",
        "scaled_df = pd.DataFrame(scaled_data, columns=header)\n",
        "\n",
        "# print  header of the new scaled df\n",
        "print(scaled_df.head())"
      ],
      "metadata": {
        "colab": {
          "base_uri": "https://localhost:8080/"
        },
        "id": "enZ0Q80unctB",
        "outputId": "e8cf5524-1850-4187-f3fd-db3ec3db0a50"
      },
      "execution_count": 211,
      "outputs": [
        {
          "output_type": "stream",
          "name": "stdout",
          "text": [
            "       AREA  PERIMETER  MAJOR_AXIS  MINOR_AXIS  ECCENTRICITY   EQDIASQ  \\\n",
            "0  0.772274   0.772079    0.565604    0.841941      0.446429  0.871512   \n",
            "1  0.617835   0.617480    0.436904    0.775906      0.342186  0.773229   \n",
            "2  0.964674   0.913374    0.681733    0.933143      0.464896  0.981104   \n",
            "3  0.761063   0.757502    0.554467    0.841456      0.430098  0.864727   \n",
            "4  0.635159   0.657060    0.482240    0.759716      0.460470  0.784821   \n",
            "\n",
            "   SOLIDITY  CONVEX_AREA    EXTENT  ASPECT_RATIO  ...    SkewRB  KurtosisRR  \\\n",
            "0  0.983209     0.767108  0.787438      0.000435  ...  0.395739    0.062495   \n",
            "1  1.000000     0.611906  0.776970      0.000282  ...  0.350002    0.037387   \n",
            "2  0.992537     0.956896  0.736842      0.000467  ...  0.472509    0.083531   \n",
            "3  0.983831     0.755891  0.766502      0.000408  ...  0.687121    0.136202   \n",
            "4  0.958955     0.633316  0.711253      0.000459  ...  0.464794    0.040608   \n",
            "\n",
            "   KurtosisRG  KurtosisRB  EntropyRR  EntropyRG  EntropyRB  ALLdaub4RR  \\\n",
            "0    0.053715    0.080752   0.458251   0.455197   0.546327    0.673513   \n",
            "1    0.040885    0.046033   0.687311   0.599151   0.643352    0.538923   \n",
            "2    0.089677    0.096843   0.139260   0.194220   0.312066    0.777967   \n",
            "3    0.278800    0.213061   0.707124   0.657830   0.665214    0.436260   \n",
            "4    0.054459    0.086850   0.634558   0.615256   0.710963    0.581443   \n",
            "\n",
            "   ALLdaub4RG  ALLdaub4RB  \n",
            "0    0.550537    0.494665  \n",
            "1    0.516341    0.494501  \n",
            "2    0.619782    0.573507  \n",
            "3    0.377376    0.366683  \n",
            "4    0.485820    0.395128  \n",
            "\n",
            "[5 rows x 34 columns]\n"
          ]
        }
      ]
    },
    {
      "cell_type": "code",
      "source": [
        "# split data to train and test set\n",
        "X_train, X_test_1, y_train, y_test_1 = train_test_split(scaled_df, label_encoded_shaped, test_size=0.2, random_state=50)\n"
      ],
      "metadata": {
        "id": "Oh4V9NSHu3Zr"
      },
      "execution_count": 212,
      "outputs": []
    },
    {
      "cell_type": "code",
      "source": [
        "\n",
        "X_test, X_validate, y_test, y_validate = train_test_split(X_test_1,\n",
        "                                                          y_test_1,\n",
        "                                                          train_size=0.5,\n",
        "                                                          random_state=80)"
      ],
      "metadata": {
        "id": "4UkjOJF0qHQd"
      },
      "execution_count": 213,
      "outputs": []
    },
    {
      "cell_type": "code",
      "source": [
        "print(\"x_train\", X_train.shape)\n",
        "print(\"x_test\",X_test.shape)\n",
        "print(\"y_train\",y_train.shape)\n",
        "print(\"y_test\",y_test.shape)\n",
        "print(\"x_validate\",X_validate.shape)\n",
        "print(\"y_validate\",y_validate.shape)\n"
      ],
      "metadata": {
        "colab": {
          "base_uri": "https://localhost:8080/"
        },
        "id": "2o5tIBh_vqyj",
        "outputId": "bdc31f92-54a3-4010-9245-a8e038f3db16"
      },
      "execution_count": 214,
      "outputs": [
        {
          "output_type": "stream",
          "name": "stdout",
          "text": [
            "x_train (718, 34)\n",
            "x_test (90, 34)\n",
            "y_train (718, 1)\n",
            "y_test (90, 1)\n",
            "x_validate (90, 34)\n",
            "y_validate (90, 1)\n"
          ]
        }
      ]
    },
    {
      "cell_type": "markdown",
      "source": [
        "# 2) Modeling\n"
      ],
      "metadata": {
        "id": "jB3IraUyHgwZ"
      }
    },
    {
      "cell_type": "markdown",
      "source": [
        "## 2.a) Use tf.keras.Sequential to create a fully connected artificial neural network with at least two hidden layers. Choose an activation function for each layer, and make sure the input and output dimensions are appropriate for the data. Print a summary of the model using tf.summary.\n"
      ],
      "metadata": {
        "id": "yi4VgiuzHict"
      }
    },
    {
      "cell_type": "code",
      "source": [
        "model=tf.keras.Sequential([\n",
        "    tf.keras.layers.Dense(32,input_shape=[34],activation='relu'),\n",
        "    tf.keras.layers.Dropout(0.3),\n",
        "    tf.keras.layers.Dense(16,activation='relu'),\n",
        "    tf.keras.layers.BatchNormalization(),\n",
        "    tf.keras.layers.Dense(7,activation='softmax')\n",
        "])"
      ],
      "metadata": {
        "id": "IIX2UVK_wTlJ"
      },
      "execution_count": 215,
      "outputs": []
    },
    {
      "cell_type": "code",
      "source": [
        "model.summary()\n"
      ],
      "metadata": {
        "colab": {
          "base_uri": "https://localhost:8080/"
        },
        "id": "gW9ZCFeBxhcA",
        "outputId": "63048cbb-184d-4f28-df4d-64b6d0513b64"
      },
      "execution_count": 216,
      "outputs": [
        {
          "output_type": "stream",
          "name": "stdout",
          "text": [
            "Model: \"sequential_99\"\n",
            "_________________________________________________________________\n",
            " Layer (type)                Output Shape              Param #   \n",
            "=================================================================\n",
            " dense_301 (Dense)           (None, 32)                1120      \n",
            "                                                                 \n",
            " dropout_35 (Dropout)        (None, 32)                0         \n",
            "                                                                 \n",
            " dense_302 (Dense)           (None, 16)                528       \n",
            "                                                                 \n",
            " batch_normalization_2 (Bat  (None, 16)                64        \n",
            " chNormalization)                                                \n",
            "                                                                 \n",
            " dense_303 (Dense)           (None, 7)                 119       \n",
            "                                                                 \n",
            "=================================================================\n",
            "Total params: 1831 (7.15 KB)\n",
            "Trainable params: 1799 (7.03 KB)\n",
            "Non-trainable params: 32 (128.00 Byte)\n",
            "_________________________________________________________________\n"
          ]
        }
      ]
    },
    {
      "cell_type": "markdown",
      "source": [
        "## 2.b) Compile the model with a choice of optimizer and loss function, and the set the metrics argument equal to ['accuracy'].\n"
      ],
      "metadata": {
        "id": "8iNUNTmyHolN"
      }
    },
    {
      "cell_type": "code",
      "source": [
        "# model.compile(optimizer='adam',\n",
        "#               loss='categorical_crossentropy',\n",
        "#               metrics=['accuracy'])\n",
        "\n",
        "model.compile(optimizer='adam',\n",
        "              loss='sparse_categorical_crossentropy',\n",
        "              metrics=['accuracy'])\n"
      ],
      "metadata": {
        "id": "rWwEmaqKxsdb"
      },
      "execution_count": 217,
      "outputs": []
    },
    {
      "cell_type": "code",
      "source": [
        "model.summary()"
      ],
      "metadata": {
        "colab": {
          "base_uri": "https://localhost:8080/"
        },
        "id": "cqgEGjDxyNie",
        "outputId": "fa9df6b7-5114-4716-9334-fdd5633c9aba"
      },
      "execution_count": 218,
      "outputs": [
        {
          "output_type": "stream",
          "name": "stdout",
          "text": [
            "Model: \"sequential_99\"\n",
            "_________________________________________________________________\n",
            " Layer (type)                Output Shape              Param #   \n",
            "=================================================================\n",
            " dense_301 (Dense)           (None, 32)                1120      \n",
            "                                                                 \n",
            " dropout_35 (Dropout)        (None, 32)                0         \n",
            "                                                                 \n",
            " dense_302 (Dense)           (None, 16)                528       \n",
            "                                                                 \n",
            " batch_normalization_2 (Bat  (None, 16)                64        \n",
            " chNormalization)                                                \n",
            "                                                                 \n",
            " dense_303 (Dense)           (None, 7)                 119       \n",
            "                                                                 \n",
            "=================================================================\n",
            "Total params: 1831 (7.15 KB)\n",
            "Trainable params: 1799 (7.03 KB)\n",
            "Non-trainable params: 32 (128.00 Byte)\n",
            "_________________________________________________________________\n"
          ]
        }
      ]
    },
    {
      "cell_type": "markdown",
      "source": [
        "## 2.c) Train the model and record the training accuracy. Find the validation accuracy and confusion matrix.\n"
      ],
      "metadata": {
        "id": "7iauGLQPHxFE"
      }
    },
    {
      "cell_type": "code",
      "source": [
        "epochs = 100\n",
        "results = model.fit(X_train, y_train, epochs=epochs, validation_data=(X_validate, y_validate))\n"
      ],
      "metadata": {
        "colab": {
          "base_uri": "https://localhost:8080/"
        },
        "id": "r32Dpbv2yTyb",
        "outputId": "bd0c3006-e4ef-4845-a9f9-f176a78236bc"
      },
      "execution_count": 219,
      "outputs": [
        {
          "output_type": "stream",
          "name": "stdout",
          "text": [
            "Epoch 1/100\n",
            "23/23 [==============================] - 2s 13ms/step - loss: 2.1290 - accuracy: 0.2103 - val_loss: 1.8627 - val_accuracy: 0.3222\n",
            "Epoch 2/100\n",
            "23/23 [==============================] - 0s 4ms/step - loss: 1.7647 - accuracy: 0.3203 - val_loss: 1.7542 - val_accuracy: 0.5444\n",
            "Epoch 3/100\n",
            "23/23 [==============================] - 0s 4ms/step - loss: 1.4667 - accuracy: 0.4735 - val_loss: 1.6548 - val_accuracy: 0.6111\n",
            "Epoch 4/100\n",
            "23/23 [==============================] - 0s 4ms/step - loss: 1.2436 - accuracy: 0.5864 - val_loss: 1.5643 - val_accuracy: 0.6556\n",
            "Epoch 5/100\n",
            "23/23 [==============================] - 0s 4ms/step - loss: 1.1152 - accuracy: 0.6086 - val_loss: 1.5049 - val_accuracy: 0.6556\n",
            "Epoch 6/100\n",
            "23/23 [==============================] - 0s 5ms/step - loss: 1.0176 - accuracy: 0.6546 - val_loss: 1.4586 - val_accuracy: 0.6556\n",
            "Epoch 7/100\n",
            "23/23 [==============================] - 0s 4ms/step - loss: 0.9610 - accuracy: 0.6755 - val_loss: 1.4126 - val_accuracy: 0.6667\n",
            "Epoch 8/100\n",
            "23/23 [==============================] - 0s 3ms/step - loss: 0.9152 - accuracy: 0.6671 - val_loss: 1.3125 - val_accuracy: 0.6667\n",
            "Epoch 9/100\n",
            "23/23 [==============================] - 0s 4ms/step - loss: 0.8495 - accuracy: 0.7242 - val_loss: 1.2442 - val_accuracy: 0.7000\n",
            "Epoch 10/100\n",
            "23/23 [==============================] - 0s 4ms/step - loss: 0.8360 - accuracy: 0.6880 - val_loss: 1.1587 - val_accuracy: 0.7667\n",
            "Epoch 11/100\n",
            "23/23 [==============================] - 0s 4ms/step - loss: 0.8120 - accuracy: 0.6992 - val_loss: 1.0551 - val_accuracy: 0.8111\n",
            "Epoch 12/100\n",
            "23/23 [==============================] - 0s 4ms/step - loss: 0.7486 - accuracy: 0.7340 - val_loss: 0.9805 - val_accuracy: 0.8222\n",
            "Epoch 13/100\n",
            "23/23 [==============================] - 0s 5ms/step - loss: 0.7367 - accuracy: 0.7507 - val_loss: 0.8880 - val_accuracy: 0.8444\n",
            "Epoch 14/100\n",
            "23/23 [==============================] - 0s 5ms/step - loss: 0.7206 - accuracy: 0.7382 - val_loss: 0.8361 - val_accuracy: 0.8444\n",
            "Epoch 15/100\n",
            "23/23 [==============================] - 0s 5ms/step - loss: 0.6633 - accuracy: 0.7618 - val_loss: 0.7251 - val_accuracy: 0.8667\n",
            "Epoch 16/100\n",
            "23/23 [==============================] - 0s 4ms/step - loss: 0.6733 - accuracy: 0.7716 - val_loss: 0.6860 - val_accuracy: 0.8667\n",
            "Epoch 17/100\n",
            "23/23 [==============================] - 0s 4ms/step - loss: 0.6341 - accuracy: 0.7841 - val_loss: 0.6364 - val_accuracy: 0.8889\n",
            "Epoch 18/100\n",
            "23/23 [==============================] - 0s 4ms/step - loss: 0.6193 - accuracy: 0.7799 - val_loss: 0.5895 - val_accuracy: 0.8778\n",
            "Epoch 19/100\n",
            "23/23 [==============================] - 0s 4ms/step - loss: 0.6126 - accuracy: 0.7730 - val_loss: 0.5155 - val_accuracy: 0.9333\n",
            "Epoch 20/100\n",
            "23/23 [==============================] - 0s 4ms/step - loss: 0.6122 - accuracy: 0.7981 - val_loss: 0.4894 - val_accuracy: 0.9333\n",
            "Epoch 21/100\n",
            "23/23 [==============================] - 0s 4ms/step - loss: 0.5815 - accuracy: 0.7967 - val_loss: 0.4813 - val_accuracy: 0.8889\n",
            "Epoch 22/100\n",
            "23/23 [==============================] - 0s 5ms/step - loss: 0.5910 - accuracy: 0.7813 - val_loss: 0.4531 - val_accuracy: 0.8889\n",
            "Epoch 23/100\n",
            "23/23 [==============================] - 0s 4ms/step - loss: 0.5616 - accuracy: 0.7967 - val_loss: 0.4057 - val_accuracy: 0.9111\n",
            "Epoch 24/100\n",
            "23/23 [==============================] - 0s 4ms/step - loss: 0.5816 - accuracy: 0.7897 - val_loss: 0.3870 - val_accuracy: 0.9222\n",
            "Epoch 25/100\n",
            "23/23 [==============================] - 0s 4ms/step - loss: 0.5449 - accuracy: 0.8120 - val_loss: 0.3875 - val_accuracy: 0.9111\n",
            "Epoch 26/100\n",
            "23/23 [==============================] - 0s 4ms/step - loss: 0.5374 - accuracy: 0.8064 - val_loss: 0.3895 - val_accuracy: 0.8778\n",
            "Epoch 27/100\n",
            "23/23 [==============================] - 0s 4ms/step - loss: 0.5183 - accuracy: 0.8078 - val_loss: 0.3523 - val_accuracy: 0.9222\n",
            "Epoch 28/100\n",
            "23/23 [==============================] - 0s 3ms/step - loss: 0.5384 - accuracy: 0.8022 - val_loss: 0.3794 - val_accuracy: 0.8889\n",
            "Epoch 29/100\n",
            "23/23 [==============================] - 0s 4ms/step - loss: 0.5678 - accuracy: 0.8036 - val_loss: 0.3358 - val_accuracy: 0.9222\n",
            "Epoch 30/100\n",
            "23/23 [==============================] - 0s 5ms/step - loss: 0.5120 - accuracy: 0.8203 - val_loss: 0.3102 - val_accuracy: 0.9222\n",
            "Epoch 31/100\n",
            "23/23 [==============================] - 0s 5ms/step - loss: 0.4728 - accuracy: 0.8370 - val_loss: 0.3376 - val_accuracy: 0.9111\n",
            "Epoch 32/100\n",
            "23/23 [==============================] - 0s 4ms/step - loss: 0.5178 - accuracy: 0.8120 - val_loss: 0.3127 - val_accuracy: 0.9222\n",
            "Epoch 33/100\n",
            "23/23 [==============================] - 0s 5ms/step - loss: 0.4995 - accuracy: 0.8231 - val_loss: 0.3602 - val_accuracy: 0.8889\n",
            "Epoch 34/100\n",
            "23/23 [==============================] - 0s 5ms/step - loss: 0.5194 - accuracy: 0.8203 - val_loss: 0.2906 - val_accuracy: 0.9222\n",
            "Epoch 35/100\n",
            "23/23 [==============================] - 0s 4ms/step - loss: 0.5092 - accuracy: 0.8134 - val_loss: 0.3117 - val_accuracy: 0.8889\n",
            "Epoch 36/100\n",
            "23/23 [==============================] - 0s 4ms/step - loss: 0.4978 - accuracy: 0.8106 - val_loss: 0.3413 - val_accuracy: 0.9111\n",
            "Epoch 37/100\n",
            "23/23 [==============================] - 0s 4ms/step - loss: 0.4508 - accuracy: 0.8357 - val_loss: 0.3069 - val_accuracy: 0.9222\n",
            "Epoch 38/100\n",
            "23/23 [==============================] - 0s 4ms/step - loss: 0.4984 - accuracy: 0.8134 - val_loss: 0.2972 - val_accuracy: 0.9333\n",
            "Epoch 39/100\n",
            "23/23 [==============================] - 0s 4ms/step - loss: 0.5046 - accuracy: 0.8231 - val_loss: 0.3418 - val_accuracy: 0.9000\n",
            "Epoch 40/100\n",
            "23/23 [==============================] - 0s 4ms/step - loss: 0.4582 - accuracy: 0.8245 - val_loss: 0.2972 - val_accuracy: 0.9111\n",
            "Epoch 41/100\n",
            "23/23 [==============================] - 0s 5ms/step - loss: 0.4669 - accuracy: 0.8189 - val_loss: 0.2764 - val_accuracy: 0.9111\n",
            "Epoch 42/100\n",
            "23/23 [==============================] - 0s 5ms/step - loss: 0.4491 - accuracy: 0.8301 - val_loss: 0.2788 - val_accuracy: 0.9111\n",
            "Epoch 43/100\n",
            "23/23 [==============================] - 0s 5ms/step - loss: 0.4895 - accuracy: 0.8217 - val_loss: 0.2833 - val_accuracy: 0.8889\n",
            "Epoch 44/100\n",
            "23/23 [==============================] - 0s 5ms/step - loss: 0.4449 - accuracy: 0.8440 - val_loss: 0.2910 - val_accuracy: 0.9000\n",
            "Epoch 45/100\n",
            "23/23 [==============================] - 0s 4ms/step - loss: 0.4388 - accuracy: 0.8468 - val_loss: 0.2853 - val_accuracy: 0.8889\n",
            "Epoch 46/100\n",
            "23/23 [==============================] - 0s 4ms/step - loss: 0.4063 - accuracy: 0.8440 - val_loss: 0.2936 - val_accuracy: 0.8889\n",
            "Epoch 47/100\n",
            "23/23 [==============================] - 0s 4ms/step - loss: 0.4418 - accuracy: 0.8454 - val_loss: 0.2811 - val_accuracy: 0.9111\n",
            "Epoch 48/100\n",
            "23/23 [==============================] - 0s 5ms/step - loss: 0.4168 - accuracy: 0.8510 - val_loss: 0.2742 - val_accuracy: 0.9222\n",
            "Epoch 49/100\n",
            "23/23 [==============================] - 0s 4ms/step - loss: 0.4414 - accuracy: 0.8384 - val_loss: 0.2666 - val_accuracy: 0.9222\n",
            "Epoch 50/100\n",
            "23/23 [==============================] - 0s 4ms/step - loss: 0.4317 - accuracy: 0.8287 - val_loss: 0.2809 - val_accuracy: 0.9222\n",
            "Epoch 51/100\n",
            "23/23 [==============================] - 0s 5ms/step - loss: 0.4055 - accuracy: 0.8454 - val_loss: 0.2533 - val_accuracy: 0.9000\n",
            "Epoch 52/100\n",
            "23/23 [==============================] - 0s 5ms/step - loss: 0.4106 - accuracy: 0.8552 - val_loss: 0.2479 - val_accuracy: 0.9111\n",
            "Epoch 53/100\n",
            "23/23 [==============================] - 0s 5ms/step - loss: 0.4320 - accuracy: 0.8384 - val_loss: 0.2950 - val_accuracy: 0.8778\n",
            "Epoch 54/100\n",
            "23/23 [==============================] - 0s 3ms/step - loss: 0.4333 - accuracy: 0.8384 - val_loss: 0.2541 - val_accuracy: 0.9111\n",
            "Epoch 55/100\n",
            "23/23 [==============================] - 0s 5ms/step - loss: 0.4387 - accuracy: 0.8426 - val_loss: 0.2644 - val_accuracy: 0.9000\n",
            "Epoch 56/100\n",
            "23/23 [==============================] - 0s 6ms/step - loss: 0.4048 - accuracy: 0.8565 - val_loss: 0.2631 - val_accuracy: 0.9111\n",
            "Epoch 57/100\n",
            "23/23 [==============================] - 0s 6ms/step - loss: 0.3983 - accuracy: 0.8691 - val_loss: 0.2494 - val_accuracy: 0.9333\n",
            "Epoch 58/100\n",
            "23/23 [==============================] - 0s 6ms/step - loss: 0.3981 - accuracy: 0.8510 - val_loss: 0.2431 - val_accuracy: 0.9000\n",
            "Epoch 59/100\n",
            "23/23 [==============================] - 0s 5ms/step - loss: 0.4198 - accuracy: 0.8510 - val_loss: 0.2467 - val_accuracy: 0.8889\n",
            "Epoch 60/100\n",
            "23/23 [==============================] - 0s 6ms/step - loss: 0.4504 - accuracy: 0.8398 - val_loss: 0.2895 - val_accuracy: 0.8778\n",
            "Epoch 61/100\n",
            "23/23 [==============================] - 0s 6ms/step - loss: 0.3743 - accuracy: 0.8635 - val_loss: 0.2528 - val_accuracy: 0.9111\n",
            "Epoch 62/100\n",
            "23/23 [==============================] - 0s 5ms/step - loss: 0.3957 - accuracy: 0.8370 - val_loss: 0.2798 - val_accuracy: 0.8889\n",
            "Epoch 63/100\n",
            "23/23 [==============================] - 0s 6ms/step - loss: 0.4472 - accuracy: 0.8134 - val_loss: 0.2557 - val_accuracy: 0.9111\n",
            "Epoch 64/100\n",
            "23/23 [==============================] - 0s 6ms/step - loss: 0.3900 - accuracy: 0.8579 - val_loss: 0.2517 - val_accuracy: 0.9000\n",
            "Epoch 65/100\n",
            "23/23 [==============================] - 0s 6ms/step - loss: 0.4086 - accuracy: 0.8398 - val_loss: 0.2577 - val_accuracy: 0.9111\n",
            "Epoch 66/100\n",
            "23/23 [==============================] - 0s 6ms/step - loss: 0.4225 - accuracy: 0.8259 - val_loss: 0.2410 - val_accuracy: 0.9111\n",
            "Epoch 67/100\n",
            "23/23 [==============================] - 0s 6ms/step - loss: 0.3871 - accuracy: 0.8468 - val_loss: 0.2877 - val_accuracy: 0.8889\n",
            "Epoch 68/100\n",
            "23/23 [==============================] - 0s 6ms/step - loss: 0.3609 - accuracy: 0.8579 - val_loss: 0.2770 - val_accuracy: 0.8778\n",
            "Epoch 69/100\n",
            "23/23 [==============================] - 0s 6ms/step - loss: 0.3877 - accuracy: 0.8482 - val_loss: 0.2464 - val_accuracy: 0.8889\n",
            "Epoch 70/100\n",
            "23/23 [==============================] - 0s 6ms/step - loss: 0.3962 - accuracy: 0.8468 - val_loss: 0.2486 - val_accuracy: 0.8889\n",
            "Epoch 71/100\n",
            "23/23 [==============================] - 0s 5ms/step - loss: 0.3677 - accuracy: 0.8649 - val_loss: 0.2737 - val_accuracy: 0.8889\n",
            "Epoch 72/100\n",
            "23/23 [==============================] - 0s 6ms/step - loss: 0.3640 - accuracy: 0.8677 - val_loss: 0.2549 - val_accuracy: 0.8889\n",
            "Epoch 73/100\n",
            "23/23 [==============================] - 0s 7ms/step - loss: 0.3805 - accuracy: 0.8607 - val_loss: 0.2709 - val_accuracy: 0.8889\n",
            "Epoch 74/100\n",
            "23/23 [==============================] - 0s 8ms/step - loss: 0.3886 - accuracy: 0.8593 - val_loss: 0.2565 - val_accuracy: 0.9000\n",
            "Epoch 75/100\n",
            "23/23 [==============================] - 0s 5ms/step - loss: 0.3677 - accuracy: 0.8649 - val_loss: 0.2518 - val_accuracy: 0.9222\n",
            "Epoch 76/100\n",
            "23/23 [==============================] - 0s 6ms/step - loss: 0.4292 - accuracy: 0.8510 - val_loss: 0.2511 - val_accuracy: 0.9111\n",
            "Epoch 77/100\n",
            "23/23 [==============================] - 0s 6ms/step - loss: 0.4351 - accuracy: 0.8217 - val_loss: 0.2687 - val_accuracy: 0.9111\n",
            "Epoch 78/100\n",
            "23/23 [==============================] - 0s 5ms/step - loss: 0.3910 - accuracy: 0.8607 - val_loss: 0.2510 - val_accuracy: 0.9222\n",
            "Epoch 79/100\n",
            "23/23 [==============================] - 0s 4ms/step - loss: 0.3719 - accuracy: 0.8649 - val_loss: 0.2624 - val_accuracy: 0.8889\n",
            "Epoch 80/100\n",
            "23/23 [==============================] - 0s 3ms/step - loss: 0.4007 - accuracy: 0.8482 - val_loss: 0.2683 - val_accuracy: 0.9000\n",
            "Epoch 81/100\n",
            "23/23 [==============================] - 0s 4ms/step - loss: 0.3749 - accuracy: 0.8538 - val_loss: 0.2755 - val_accuracy: 0.8889\n",
            "Epoch 82/100\n",
            "23/23 [==============================] - 0s 4ms/step - loss: 0.3726 - accuracy: 0.8719 - val_loss: 0.2481 - val_accuracy: 0.9000\n",
            "Epoch 83/100\n",
            "23/23 [==============================] - 0s 4ms/step - loss: 0.3621 - accuracy: 0.8774 - val_loss: 0.2253 - val_accuracy: 0.9111\n",
            "Epoch 84/100\n",
            "23/23 [==============================] - 0s 4ms/step - loss: 0.3753 - accuracy: 0.8649 - val_loss: 0.2454 - val_accuracy: 0.9111\n",
            "Epoch 85/100\n",
            "23/23 [==============================] - 0s 4ms/step - loss: 0.3824 - accuracy: 0.8649 - val_loss: 0.2681 - val_accuracy: 0.9000\n",
            "Epoch 86/100\n",
            "23/23 [==============================] - 0s 4ms/step - loss: 0.3734 - accuracy: 0.8649 - val_loss: 0.2622 - val_accuracy: 0.9000\n",
            "Epoch 87/100\n",
            "23/23 [==============================] - 0s 5ms/step - loss: 0.3710 - accuracy: 0.8621 - val_loss: 0.2214 - val_accuracy: 0.9222\n",
            "Epoch 88/100\n",
            "23/23 [==============================] - 0s 6ms/step - loss: 0.3775 - accuracy: 0.8565 - val_loss: 0.2485 - val_accuracy: 0.9000\n",
            "Epoch 89/100\n",
            "23/23 [==============================] - 0s 5ms/step - loss: 0.3836 - accuracy: 0.8593 - val_loss: 0.2929 - val_accuracy: 0.8889\n",
            "Epoch 90/100\n",
            "23/23 [==============================] - 0s 5ms/step - loss: 0.3697 - accuracy: 0.8705 - val_loss: 0.2355 - val_accuracy: 0.9111\n",
            "Epoch 91/100\n",
            "23/23 [==============================] - 0s 5ms/step - loss: 0.3781 - accuracy: 0.8538 - val_loss: 0.2727 - val_accuracy: 0.8889\n",
            "Epoch 92/100\n",
            "23/23 [==============================] - 0s 5ms/step - loss: 0.3247 - accuracy: 0.8747 - val_loss: 0.2584 - val_accuracy: 0.9111\n",
            "Epoch 93/100\n",
            "23/23 [==============================] - 0s 5ms/step - loss: 0.3396 - accuracy: 0.8691 - val_loss: 0.2703 - val_accuracy: 0.9000\n",
            "Epoch 94/100\n",
            "23/23 [==============================] - 0s 4ms/step - loss: 0.3567 - accuracy: 0.8802 - val_loss: 0.2632 - val_accuracy: 0.9000\n",
            "Epoch 95/100\n",
            "23/23 [==============================] - 0s 4ms/step - loss: 0.3545 - accuracy: 0.8733 - val_loss: 0.2633 - val_accuracy: 0.9111\n",
            "Epoch 96/100\n",
            "23/23 [==============================] - 0s 4ms/step - loss: 0.3550 - accuracy: 0.8816 - val_loss: 0.2633 - val_accuracy: 0.8778\n",
            "Epoch 97/100\n",
            "23/23 [==============================] - 0s 4ms/step - loss: 0.3368 - accuracy: 0.8774 - val_loss: 0.2364 - val_accuracy: 0.9111\n",
            "Epoch 98/100\n",
            "23/23 [==============================] - 0s 4ms/step - loss: 0.3660 - accuracy: 0.8579 - val_loss: 0.2692 - val_accuracy: 0.8889\n",
            "Epoch 99/100\n",
            "23/23 [==============================] - 0s 5ms/step - loss: 0.3098 - accuracy: 0.8830 - val_loss: 0.2437 - val_accuracy: 0.9222\n",
            "Epoch 100/100\n",
            "23/23 [==============================] - 0s 4ms/step - loss: 0.3653 - accuracy: 0.8691 - val_loss: 0.2638 - val_accuracy: 0.9000\n"
          ]
        }
      ]
    },
    {
      "cell_type": "code",
      "source": [
        "train_accuracy = results.history['accuracy'][-1]\n",
        "\n",
        "validate_accuracy = results.history['val_accuracy'][-1]\n",
        "\n",
        "print(\"Training Accuracy:\", train_accuracy)\n",
        "print(\"Validation Accuracy:\", validate_accuracy)\n"
      ],
      "metadata": {
        "colab": {
          "base_uri": "https://localhost:8080/"
        },
        "id": "GsikJR8GsKYg",
        "outputId": "e8260464-537e-46de-9c5b-bb23a9239fc5"
      },
      "execution_count": 220,
      "outputs": [
        {
          "output_type": "stream",
          "name": "stdout",
          "text": [
            "Training Accuracy: 0.8690807819366455\n",
            "Validation Accuracy: 0.8999999761581421\n"
          ]
        }
      ]
    },
    {
      "cell_type": "code",
      "source": [
        "y_pred_prob = model.predict(X_validate)\n",
        "y_pred = np.argmax(y_pred_prob, axis=1)\n",
        "\n",
        "# Create a confusion matrix\n",
        "cm = confusion_matrix(y_validate, y_pred)\n",
        "\n",
        "# Plot the confusion matrix\n",
        "sns.heatmap(cm, annot=True, fmt=\"d\")\n",
        "plt.xlabel(\"Predicted\")\n",
        "plt.ylabel(\"Actual\")\n",
        "plt.title(\"Confusion Matrix\")\n",
        "plt.show()\n",
        "\n",
        "print(\"Confusion Matrix:\\n\", cm)"
      ],
      "metadata": {
        "colab": {
          "base_uri": "https://localhost:8080/",
          "height": 633
        },
        "id": "xMqbOA_QsbYD",
        "outputId": "b6c2e222-9168-48c0-aeea-e7f8ed34addb"
      },
      "execution_count": 221,
      "outputs": [
        {
          "output_type": "stream",
          "name": "stdout",
          "text": [
            "3/3 [==============================] - 0s 4ms/step\n"
          ]
        },
        {
          "output_type": "display_data",
          "data": {
            "text/plain": [
              "<Figure size 640x480 with 2 Axes>"
            ],
            "image/png": "[encoded data removed]"
          },
          "metadata": {}
        },
        {
          "output_type": "stream",
          "name": "stdout",
          "text": [
            "Confusion Matrix:\n",
            " [[ 1  0  0  1  1  0  0]\n",
            " [ 0  7  0  0  0  0  1]\n",
            " [ 0  1 22  0  0  0  0]\n",
            " [ 0  0  0  9  0  0  0]\n",
            " [ 0  1  0  0 16  0  0]\n",
            " [ 0  0  0  0  0 18  1]\n",
            " [ 0  3  0  0  0  0  8]]\n"
          ]
        }
      ]
    },
    {
      "cell_type": "markdown",
      "source": [
        "## 2.d) Return to the above steps to try at least five different choices of hyperparameters (including dimensions, activation functions, number of layers, optimizer, loss function, etc.). Neatly present a description each model tried along with the training and validation accuracies, and the confusion matrix.\n"
      ],
      "metadata": {
        "id": "3rRlikAeHxif"
      }
    },
    {
      "cell_type": "markdown",
      "source": [
        "# 3) Conlcusion"
      ],
      "metadata": {
        "id": "_XFg8_rDH5uL"
      }
    },
    {
      "cell_type": "markdown",
      "source": [
        "## 3.a) Select the best model and justify your selection using markdown.\n"
      ],
      "metadata": {
        "id": "Vzlgre59HxsY"
      }
    },
    {
      "cell_type": "code",
      "source": [
        "loss= 'sparse_categorical_crossentropy'\n",
        "input_dim = 34\n",
        "models = []\n"
      ],
      "metadata": {
        "id": "vLUJ3DbddLGb"
      },
      "execution_count": 222,
      "outputs": []
    },
    {
      "cell_type": "code",
      "source": [
        "model1 = Sequential([\n",
        "    Dense(64, activation='relu', input_dim=input_dim),\n",
        "    Dense(32, activation='relu'),\n",
        "    Dense(7, activation='softmax')\n",
        "])\n",
        "model1.compile(optimizer='adam', loss=loss,metrics=['accuracy'])\n",
        "models.append((\"Model 1\", model1))\n"
      ],
      "metadata": {
        "id": "yi8Fg1mcdNB_"
      },
      "execution_count": 223,
      "outputs": []
    },
    {
      "cell_type": "code",
      "source": [
        "model2 = Sequential([\n",
        "    Dense(128, activation='relu', input_dim=input_dim),\n",
        "    Dropout(0.2),\n",
        "    Dense(64, activation='relu'),\n",
        "    Dropout(0.2),\n",
        "    Dense(32, activation='relu'),\n",
        "    Dropout(0.2),\n",
        "    Dense(7, activation='softmax')\n",
        "])\n",
        "model2.compile(optimizer='adam', loss=loss,metrics=['accuracy'])\n",
        "models.append((\"Model 2\", model2))\n"
      ],
      "metadata": {
        "id": "ksLxJTjrddTX"
      },
      "execution_count": 224,
      "outputs": []
    },
    {
      "cell_type": "code",
      "source": [
        "model3 = Sequential([\n",
        "    Dense(128, activation='relu', input_dim=input_dim),\n",
        "    Dense(128, activation='relu'),\n",
        "    Dense(64, activation='relu'),\n",
        "    Dense(64, activation='relu'),\n",
        "    Dense(7, activation='softmax')\n",
        "])\n",
        "model3.compile(optimizer='sgd', loss=loss,metrics=['accuracy'])\n",
        "models.append((\"Model 3\", model3))\n",
        "\n"
      ],
      "metadata": {
        "id": "AIRYSoSUdk3_"
      },
      "execution_count": 225,
      "outputs": []
    },
    {
      "cell_type": "code",
      "source": [
        "model4 = Sequential([\n",
        "    Dense(32, activation='relu', input_dim=input_dim),\n",
        "    Dense(7, activation='softmax')\n",
        "])\n",
        "model4.compile(optimizer='sgd', loss=loss, metrics=['accuracy'])\n",
        "models.append((\"Model 4\", model4))"
      ],
      "metadata": {
        "id": "7qCQlbt9dpHe"
      },
      "execution_count": 226,
      "outputs": []
    },
    {
      "cell_type": "code",
      "source": [
        "model5 = Sequential([\n",
        "    Dense(128, activation='relu', input_dim=34),\n",
        "    Dense(64, activation='relu'),\n",
        "    Dense(32, activation='relu'),\n",
        "    Dense(7, activation='softmax')\n",
        "])\n",
        "\n",
        "model5.compile(optimizer='adam', loss=loss, metrics=['accuracy'])\n",
        "models.append((\"Model 5\", model5))\n"
      ],
      "metadata": {
        "id": "reFlcKlMeAm-"
      },
      "execution_count": 227,
      "outputs": []
    },
    {
      "cell_type": "code",
      "source": [
        "models"
      ],
      "metadata": {
        "colab": {
          "base_uri": "https://localhost:8080/"
        },
        "id": "5kcspzQznhMN",
        "outputId": "f898115a-1ae6-4768-8927-f09272ecee54"
      },
      "execution_count": 228,
      "outputs": [
        {
          "output_type": "execute_result",
          "data": {
            "text/plain": [
              "[('Model 1', <keras.src.engine.sequential.Sequential at 0x7d2a8e2295a0>),\n",
              " ('Model 2', <keras.src.engine.sequential.Sequential at 0x7d2a7aa41210>),\n",
              " ('Model 3', <keras.src.engine.sequential.Sequential at 0x7d2a8028e620>),\n",
              " ('Model 4', <keras.src.engine.sequential.Sequential at 0x7d2a84997df0>),\n",
              " ('Model 5', <keras.src.engine.sequential.Sequential at 0x7d2a844945b0>)]"
            ]
          },
          "metadata": {},
          "execution_count": 228
        }
      ]
    },
    {
      "cell_type": "code",
      "source": [
        "import sklearn\n",
        "results =[]\n",
        "confusion_matrices = []\n",
        "\n",
        "for model_name, model in models:\n",
        "    result = model.fit(X_train, y_train, epochs=3, validation_data=(X_validate, y_validate))\n",
        "\n",
        "    train_accuracy = result.history['accuracy'][-1]\n",
        "    validate_accuracy = result.history['val_accuracy'][-1]\n",
        "    layers_num = len(model.layers)\n",
        "    count_params = model.count_params()\n",
        "    optim_name = model.optimizer.get_config()[\"name\"]\n",
        "    model_loss = model.loss\n",
        "\n",
        "    # Append the results to the list\n",
        "    results.append([model_name,\n",
        "                    train_accuracy,\n",
        "                    validate_accuracy,\n",
        "                    model.layers[0].activation.__name__,\n",
        "                    layers_num,\n",
        "                    count_params,\n",
        "                    optim_name,\n",
        "                    model_loss\n",
        "                    ],)\n",
        "\n",
        "\n",
        "\n",
        "\n",
        "    # Calculate the confusion matrix and store it\n",
        "    y_pred = model.predict(X_validate)\n",
        "    cm = sklearn.metrics.confusion_matrix(y_validate, np.argmax(y_pred, axis=1))\n",
        "    confusion_matrices.append(cm)\n",
        "\n"
      ],
      "metadata": {
        "colab": {
          "base_uri": "https://localhost:8080/"
        },
        "id": "yav_Ov23uKTI",
        "outputId": "cfa75624-89ca-4ce4-eda7-037bf4eeeba5"
      },
      "execution_count": 248,
      "outputs": [
        {
          "output_type": "stream",
          "name": "stdout",
          "text": [
            "Epoch 1/3\n",
            "23/23 [==============================] - 1s 55ms/step - loss: 0.3237 - accuracy: 0.8872 - val_loss: 0.2982 - val_accuracy: 0.9000\n",
            "Epoch 2/3\n",
            "23/23 [==============================] - 0s 21ms/step - loss: 0.3131 - accuracy: 0.8900 - val_loss: 0.2942 - val_accuracy: 0.9000\n",
            "Epoch 3/3\n",
            "23/23 [==============================] - 0s 18ms/step - loss: 0.3113 - accuracy: 0.8872 - val_loss: 0.2898 - val_accuracy: 0.9000\n",
            "3/3 [==============================] - 0s 4ms/step\n",
            "Epoch 1/3\n",
            "23/23 [==============================] - 0s 16ms/step - loss: 1.1365 - accuracy: 0.6142 - val_loss: 0.8396 - val_accuracy: 0.6667\n",
            "Epoch 2/3\n",
            "23/23 [==============================] - 0s 7ms/step - loss: 0.9886 - accuracy: 0.6532 - val_loss: 0.7361 - val_accuracy: 0.6556\n",
            "Epoch 3/3\n",
            "23/23 [==============================] - 0s 7ms/step - loss: 0.8819 - accuracy: 0.6880 - val_loss: 0.6279 - val_accuracy: 0.8111\n",
            "3/3 [==============================] - 0s 4ms/step\n",
            "Epoch 1/3\n",
            "23/23 [==============================] - 0s 10ms/step - loss: 1.7714 - accuracy: 0.4471 - val_loss: 1.7201 - val_accuracy: 0.4556\n",
            "Epoch 2/3\n",
            "23/23 [==============================] - 0s 6ms/step - loss: 1.7353 - accuracy: 0.4513 - val_loss: 1.6797 - val_accuracy: 0.5222\n",
            "Epoch 3/3\n",
            "23/23 [==============================] - 0s 8ms/step - loss: 1.6956 - accuracy: 0.5028 - val_loss: 1.6340 - val_accuracy: 0.5667\n",
            "3/3 [==============================] - 0s 8ms/step\n",
            "Epoch 1/3\n",
            "23/23 [==============================] - 0s 11ms/step - loss: 1.6271 - accuracy: 0.5070 - val_loss: 1.5775 - val_accuracy: 0.5778\n",
            "Epoch 2/3\n",
            "23/23 [==============================] - 0s 6ms/step - loss: 1.5934 - accuracy: 0.5613 - val_loss: 1.5415 - val_accuracy: 0.5778\n",
            "Epoch 3/3\n",
            "23/23 [==============================] - 0s 5ms/step - loss: 1.5606 - accuracy: 0.5557 - val_loss: 1.5061 - val_accuracy: 0.5889\n",
            "3/3 [==============================] - 0s 4ms/step\n",
            "Epoch 1/3\n",
            "23/23 [==============================] - 0s 10ms/step - loss: 0.8597 - accuracy: 0.6825 - val_loss: 0.6977 - val_accuracy: 0.7778\n",
            "Epoch 2/3\n",
            "23/23 [==============================] - 0s 7ms/step - loss: 0.6836 - accuracy: 0.7730 - val_loss: 0.5754 - val_accuracy: 0.7889\n",
            "Epoch 3/3\n",
            "23/23 [==============================] - 0s 5ms/step - loss: 0.5866 - accuracy: 0.7994 - val_loss: 0.5065 - val_accuracy: 0.8111\n",
            "3/3 [==============================] - 0s 4ms/step\n"
          ]
        }
      ]
    },
    {
      "cell_type": "code",
      "source": [
        "# Create a Pandas DataFrame from the results\n",
        "results_df = pd.DataFrame(results, columns=[\"Model\",\n",
        "                                            \"Training accuracy\",\n",
        "                                            \"Validation accuracy\",\n",
        "                                            \"Activation\",\n",
        "                                            \"Num_layers\",\n",
        "                                            \"count_params\",\n",
        "                                            \"optimizer name\",\n",
        "                                            \"model_loss\"\n",
        "                                            ])\n",
        "\n",
        "# Print the table\n",
        "print(tabulate(results_df, headers=\"keys\", tablefmt=\"pretty\"))"
      ],
      "metadata": {
        "colab": {
          "base_uri": "https://localhost:8080/"
        },
        "id": "GCIS3XS-rf-t",
        "outputId": "c404ef75-c857-45d4-f367-12d2250512d9"
      },
      "execution_count": 189,
      "outputs": [
        {
          "output_type": "stream",
          "name": "stdout",
          "text": [
            "+---+----------+--------------------+---------------------+------------+------------+--------------+----------------+---------------------------------+\n",
            "|   |  Model   | Training accuracy  | Validation accuracy | Activation | Num_layers | count_params | optimizer name |           model_loss            |\n",
            "+---+----------+--------------------+---------------------+------------+------------+--------------+----------------+---------------------------------+\n",
            "| 0 | Model 1: | 0.8718662858009338 | 0.8999999761581421  |    relu    |     3      |     4551     |      Adam      | sparse_categorical_crossentropy |\n",
            "| 1 | Model 2: | 0.7785515189170837 | 0.8999999761581421  |    relu    |     7      |    15047     |      Adam      | sparse_categorical_crossentropy |\n",
            "| 2 | Model 3: | 0.640668511390686  | 0.6888889074325562  |    relu    |     5      |    33863     |      SGD       | sparse_categorical_crossentropy |\n",
            "| 3 | Model 4: | 0.6225626468658447 | 0.6333333253860474  |    relu    |     2      |     1351     |      SGD       | sparse_categorical_crossentropy |\n",
            "| 4 | Model 5: | 0.8523676991462708 | 0.8999999761581421  |    relu    |     4      |    15047     |      Adam      | sparse_categorical_crossentropy |\n",
            "+---+----------+--------------------+---------------------+------------+------------+--------------+----------------+---------------------------------+\n"
          ]
        }
      ]
    },
    {
      "cell_type": "code",
      "source": [
        "for model_name, cm in zip(models, confusion_matrices):\n",
        "    print(f\"Confusion Matrix for {model_name}:\\n{cm}\")"
      ],
      "metadata": {
        "colab": {
          "base_uri": "https://localhost:8080/"
        },
        "id": "KeLGMuKBcMZy",
        "outputId": "498cc11a-ad00-453e-b727-0c26e6409835"
      },
      "execution_count": 249,
      "outputs": [
        {
          "output_type": "stream",
          "name": "stdout",
          "text": [
            "Confusion Matrix for ('Model 1', <keras.src.engine.sequential.Sequential object at 0x7d2a8e2295a0>):\n",
            "[[ 2  0  0  1  0  0  0]\n",
            " [ 0  8  0  0  0  0  0]\n",
            " [ 0  0 23  0  0  0  0]\n",
            " [ 0  0  0  9  0  0  0]\n",
            " [ 0  0  0  0 15  0  2]\n",
            " [ 0  0  0  0  0 17  2]\n",
            " [ 0  4  0  0  0  0  7]]\n",
            "Confusion Matrix for ('Model 2', <keras.src.engine.sequential.Sequential object at 0x7d2a7aa41210>):\n",
            "[[ 0  0  0  2  1  0  0]\n",
            " [ 0  3  3  0  1  0  1]\n",
            " [ 0  0 23  0  0  0  0]\n",
            " [ 0  0  0  3  0  6  0]\n",
            " [ 0  0  0  0 17  0  0]\n",
            " [ 0  0  0  0  0 19  0]\n",
            " [ 0  1  0  0  2  0  8]]\n",
            "Confusion Matrix for ('Model 3', <keras.src.engine.sequential.Sequential object at 0x7d2a8028e620>):\n",
            "[[ 0  0  1  0  0  2  0]\n",
            " [ 0  0  8  0  0  0  0]\n",
            " [ 0  0 23  0  0  0  0]\n",
            " [ 0  0  0  0  0  9  0]\n",
            " [ 0  0  8  0  9  0  0]\n",
            " [ 0  0  0  0  0 19  0]\n",
            " [ 0  0 11  0  0  0  0]]\n",
            "Confusion Matrix for ('Model 4', <keras.src.engine.sequential.Sequential object at 0x7d2a84997df0>):\n",
            "[[ 0  0  0  0  2  1  0]\n",
            " [ 0  0  8  0  0  0  0]\n",
            " [ 0  0 23  0  0  0  0]\n",
            " [ 0  0  0  0  0  9  0]\n",
            " [ 0  0  6  0 11  0  0]\n",
            " [ 0  0  0  0  0 19  0]\n",
            " [ 0  0  6  0  5  0  0]]\n",
            "Confusion Matrix for ('Model 5', <keras.src.engine.sequential.Sequential object at 0x7d2a844945b0>):\n",
            "[[ 2  0  0  0  0  0  1]\n",
            " [ 0  7  1  0  0  0  0]\n",
            " [ 0  1 22  0  0  0  0]\n",
            " [ 1  0  0  5  0  3  0]\n",
            " [ 0  1  0  0 14  0  2]\n",
            " [ 0  0  0  0  0 17  2]\n",
            " [ 0  5  0  0  0  0  6]]\n"
          ]
        }
      ]
    },
    {
      "cell_type": "code",
      "source": [
        "for model_name, cm in zip(models, confusion_matrices):\n",
        "    plt.figure(figsize=(4,4))\n",
        "    plt.title(f\"Confusion Matrix - {model_name}\")\n",
        "    sns.heatmap(cm, annot=True, fmt=\"d\")\n",
        "    plt.xlabel(\"Predicted\")\n",
        "    plt.ylabel(\"Actual\")\n",
        "    plt.show()"
      ],
      "metadata": {
        "colab": {
          "base_uri": "https://localhost:8080/",
          "height": 1000
        },
        "id": "JUPwpBaev9bA",
        "outputId": "0572e7cb-6061-4f4f-c544-3c8a49b79332"
      },
      "execution_count": 256,
      "outputs": [
        {
          "output_type": "display_data",
          "data": {
            "text/plain": [
              "<Figure size 400x400 with 2 Axes>"
            ],
            "image/png": "[encoded data removed]"
          },
          "metadata": {}
        },
        {
          "output_type": "display_data",
          "data": {
            "text/plain": [
              "<Figure size 400x400 with 2 Axes>"
            ],
            "image/png": "[encoded data removed]"
          },
          "metadata": {}
        },
        {
          "output_type": "display_data",
          "data": {
            "text/plain": [
              "<Figure size 400x400 with 2 Axes>"
            ],
            "image/png": "[encoded data removed]"
          },
          "metadata": {}
        },
        {
          "output_type": "display_data",
          "data": {
            "text/plain": [
              "<Figure size 400x400 with 2 Axes>"
            ],
            "image/png": "[encoded data removed]"
          },
          "metadata": {}
        },
        {
          "output_type": "display_data",
          "data": {
            "text/plain": [
              "<Figure size 400x400 with 2 Axes>"
            ],
            "image/png": "[encoded data removed]"
          },
          "metadata": {}
        }
      ]
    },
    {
      "cell_type": "markdown",
      "source": [
        "## 3.b) Use the best model to make predictions on the testing set. Find the testing accuracy and confusion matrix.\n"
      ],
      "metadata": {
        "id": "hbOFzlJWH_wP"
      }
    },
    {
      "cell_type": "markdown",
      "source": [
        "|  Model   | Training accuracy  | Validation accuracy | Activation | Num_layers | count_params | optimizer name |           model_loss            |\n",
        "\n",
        " Model 1: | 0.8718662858009338 | 0.8999999761581421  |    relu    |     3      |     4551     |      Adam      | sparse_categorical_crossentropy |\n",
        "\n",
        "\n",
        "Model 1 is the best model, it has the highest validation accuracy, that is, when working with new data it performed well.\n"
      ],
      "metadata": {
        "id": "as-jnsOswp8c"
      }
    },
    {
      "cell_type": "code",
      "source": [
        "models[0]"
      ],
      "metadata": {
        "colab": {
          "base_uri": "https://localhost:8080/"
        },
        "id": "pB66CMCpw9RU",
        "outputId": "50283e04-863b-4ba2-a5e8-33b96ee91b49"
      },
      "execution_count": 268,
      "outputs": [
        {
          "output_type": "execute_result",
          "data": {
            "text/plain": [
              "('Model 1', <keras.src.engine.sequential.Sequential at 0x7d2a8e2295a0>)"
            ]
          },
          "metadata": {},
          "execution_count": 268
        }
      ]
    },
    {
      "cell_type": "code",
      "source": [
        "models[0][1].summary()"
      ],
      "metadata": {
        "colab": {
          "base_uri": "https://localhost:8080/"
        },
        "id": "Bg3ECmREyLlN",
        "outputId": "6157ecd5-da8d-47c8-a0e7-44c29bb9031e"
      },
      "execution_count": 275,
      "outputs": [
        {
          "output_type": "stream",
          "name": "stdout",
          "text": [
            "Model: \"sequential_100\"\n",
            "_________________________________________________________________\n",
            " Layer (type)                Output Shape              Param #   \n",
            "=================================================================\n",
            " dense_304 (Dense)           (None, 64)                2240      \n",
            "                                                                 \n",
            " dense_305 (Dense)           (None, 32)                2080      \n",
            "                                                                 \n",
            " dense_306 (Dense)           (None, 7)                 231       \n",
            "                                                                 \n",
            "=================================================================\n",
            "Total params: 4551 (17.78 KB)\n",
            "Trainable params: 4551 (17.78 KB)\n",
            "Non-trainable params: 0 (0.00 Byte)\n",
            "_________________________________________________________________\n"
          ]
        }
      ]
    },
    {
      "cell_type": "code",
      "source": [
        "best_model = models[0][1]\n",
        "y_pred = best_model.predict(X_test)\n",
        "testing_accuracy = best_model.evaluate(X_test, y_test)[1]\n",
        "\n",
        "print(\"testing Accuracy:\", testing_accuracy)\n",
        "\n",
        "\n"
      ],
      "metadata": {
        "colab": {
          "base_uri": "https://localhost:8080/"
        },
        "id": "szPzaMqnwZeL",
        "outputId": "9a31de89-ca03-42bb-d699-f85c6b5f218a"
      },
      "execution_count": 273,
      "outputs": [
        {
          "output_type": "stream",
          "name": "stdout",
          "text": [
            "3/3 [==============================] - 0s 4ms/step\n",
            "3/3 [==============================] - 0s 7ms/step - loss: 0.4910 - accuracy: 0.9444\n",
            "testing Accuracy: 0.9444444179534912\n"
          ]
        }
      ]
    },
    {
      "cell_type": "code",
      "source": [
        "cm = sklearn.metrics.confusion_matrix(y_test, np.argmax(y_pred, axis=1))\n",
        "\n",
        "print(\"Confusion Matrix:\")\n",
        "print(cm)"
      ],
      "metadata": {
        "colab": {
          "base_uri": "https://localhost:8080/"
        },
        "id": "ptdfS_29yZTq",
        "outputId": "5ffeedc1-30dd-4aa5-b7f8-2c87305815ad"
      },
      "execution_count": 279,
      "outputs": [
        {
          "output_type": "stream",
          "name": "stdout",
          "text": [
            "Confusion Matrix:\n",
            "[[11  0  0  0  0  0  0]\n",
            " [ 0  4  1  0  0  0  1]\n",
            " [ 0  1 16  0  0  0  0]\n",
            " [ 0  0  0  6  0  0  0]\n",
            " [ 0  0  0  0 18  0  1]\n",
            " [ 0  0  1  0  0 23  0]\n",
            " [ 0  0  0  0  0  0  7]]\n"
          ]
        }
      ]
    },
    {
      "cell_type": "markdown",
      "source": [
        "## 3.c) Use markdown to comment on how well the model works to make predictions for this use case.\n"
      ],
      "metadata": {
        "id": "SqVJjTOMH_9D"
      }
    }
  ]
}